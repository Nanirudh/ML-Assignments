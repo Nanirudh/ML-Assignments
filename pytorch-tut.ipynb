{
 "cells": [
  {
   "cell_type": "code",
   "execution_count": 1,
   "id": "c646e8ae",
   "metadata": {},
   "outputs": [],
   "source": [
    "import torch"
   ]
  },
  {
   "cell_type": "markdown",
   "id": "adfe74cf",
   "metadata": {},
   "source": [
    "### Basic Operations"
   ]
  },
  {
   "cell_type": "code",
   "execution_count": 13,
   "id": "8635fc8d",
   "metadata": {},
   "outputs": [],
   "source": [
    "b = torch.rand(3,3)"
   ]
  },
  {
   "cell_type": "code",
   "execution_count": 9,
   "id": "ac20b725",
   "metadata": {},
   "outputs": [
    {
     "data": {
      "text/plain": [
       "False"
      ]
     },
     "execution_count": 9,
     "metadata": {},
     "output_type": "execute_result"
    }
   ],
   "source": [
    "torch.cuda.is_available()"
   ]
  },
  {
   "cell_type": "code",
   "execution_count": 10,
   "id": "81d0a2b5",
   "metadata": {},
   "outputs": [
    {
     "data": {
      "text/plain": [
       "tensor([ 2.3236e-36,  0.0000e+00, -1.8554e+10,  4.5580e-41,  8.9683e-44])"
      ]
     },
     "execution_count": 10,
     "metadata": {},
     "output_type": "execute_result"
    }
   ],
   "source": [
    "torch.empty(5)"
   ]
  },
  {
   "cell_type": "code",
   "execution_count": 18,
   "id": "f2ae1dcc",
   "metadata": {},
   "outputs": [
    {
     "data": {
      "text/plain": [
       "3"
      ]
     },
     "execution_count": 18,
     "metadata": {},
     "output_type": "execute_result"
    }
   ],
   "source": [
    "b.shape[0]"
   ]
  },
  {
   "cell_type": "code",
   "execution_count": 19,
   "id": "fcf00d05",
   "metadata": {},
   "outputs": [],
   "source": [
    "x = torch.rand(2,2)\n",
    "y = torch.rand(2,2)"
   ]
  },
  {
   "cell_type": "code",
   "execution_count": 20,
   "id": "8d5a6e34",
   "metadata": {},
   "outputs": [
    {
     "name": "stdout",
     "output_type": "stream",
     "text": [
      "tensor([[0.1367, 0.6263],\n",
      "        [0.9419, 0.3963]])\n",
      "tensor([[0.5600, 0.2104],\n",
      "        [0.7596, 0.1873]])\n"
     ]
    }
   ],
   "source": [
    "print(x)\n",
    "print(y)"
   ]
  },
  {
   "cell_type": "code",
   "execution_count": 21,
   "id": "0eaa10fc",
   "metadata": {},
   "outputs": [],
   "source": [
    "z = x+y"
   ]
  },
  {
   "cell_type": "code",
   "execution_count": 22,
   "id": "1913e875",
   "metadata": {},
   "outputs": [
    {
     "name": "stdout",
     "output_type": "stream",
     "text": [
      "tensor([[0.6967, 0.8367],\n",
      "        [1.7015, 0.5836]])\n"
     ]
    }
   ],
   "source": [
    "print(z)"
   ]
  },
  {
   "cell_type": "code",
   "execution_count": 23,
   "id": "bd7b9a9a",
   "metadata": {},
   "outputs": [
    {
     "name": "stdout",
     "output_type": "stream",
     "text": [
      "tensor([[0.6967, 0.8367],\n",
      "        [1.7015, 0.5836]])\n"
     ]
    }
   ],
   "source": [
    "x.add_(y)\n",
    "print(x)"
   ]
  },
  {
   "cell_type": "code",
   "execution_count": 24,
   "id": "69a9e0e1",
   "metadata": {},
   "outputs": [],
   "source": [
    "x = torch.rand(5,3)"
   ]
  },
  {
   "cell_type": "code",
   "execution_count": 30,
   "id": "f928290b",
   "metadata": {},
   "outputs": [
    {
     "data": {
      "text/plain": [
       "tensor([[0.9187, 0.5063, 0.3060],\n",
       "        [0.6593, 0.5745, 0.0544],\n",
       "        [0.9191, 0.3275, 0.7650],\n",
       "        [0.6989, 0.1062, 0.4642],\n",
       "        [0.6631, 0.9661, 0.8487]])"
      ]
     },
     "execution_count": 30,
     "metadata": {},
     "output_type": "execute_result"
    }
   ],
   "source": [
    "x"
   ]
  },
  {
   "cell_type": "code",
   "execution_count": 32,
   "id": "fe7285ea",
   "metadata": {},
   "outputs": [],
   "source": [
    "y = x.view(3,-1)"
   ]
  },
  {
   "cell_type": "code",
   "execution_count": 33,
   "id": "5a9ee75d",
   "metadata": {},
   "outputs": [
    {
     "data": {
      "text/plain": [
       "tensor([[0.9187, 0.5063, 0.3060, 0.6593, 0.5745],\n",
       "        [0.0544, 0.9191, 0.3275, 0.7650, 0.6989],\n",
       "        [0.1062, 0.4642, 0.6631, 0.9661, 0.8487]])"
      ]
     },
     "execution_count": 33,
     "metadata": {},
     "output_type": "execute_result"
    }
   ],
   "source": [
    "y"
   ]
  },
  {
   "cell_type": "code",
   "execution_count": 34,
   "id": "c1803a18",
   "metadata": {},
   "outputs": [],
   "source": [
    "import numpy as np"
   ]
  },
  {
   "cell_type": "code",
   "execution_count": 39,
   "id": "2f55a4df",
   "metadata": {},
   "outputs": [],
   "source": [
    "a = torch.zeros((2,3))"
   ]
  },
  {
   "cell_type": "code",
   "execution_count": 40,
   "id": "49eae1b3",
   "metadata": {},
   "outputs": [
    {
     "name": "stdout",
     "output_type": "stream",
     "text": [
      "tensor([[0., 0., 0.],\n",
      "        [0., 5., 0.]])\n",
      "tensor([0., 5.])\n"
     ]
    }
   ],
   "source": [
    "b = a[:,1]\n",
    "a[1,1] = 5\n",
    "print(a)\n",
    "print(b)"
   ]
  },
  {
   "cell_type": "code",
   "execution_count": 41,
   "id": "ad922cb1",
   "metadata": {},
   "outputs": [],
   "source": [
    "b = a.numpy()"
   ]
  },
  {
   "cell_type": "code",
   "execution_count": 42,
   "id": "8013ca1e",
   "metadata": {},
   "outputs": [],
   "source": [
    "b = torch.from_numpy(b)"
   ]
  },
  {
   "cell_type": "code",
   "execution_count": 43,
   "id": "231eecc5",
   "metadata": {},
   "outputs": [],
   "source": [
    "b = a.numpy()"
   ]
  },
  {
   "cell_type": "code",
   "execution_count": 45,
   "id": "3e3f3f94",
   "metadata": {},
   "outputs": [],
   "source": [
    "a+=1"
   ]
  },
  {
   "cell_type": "code",
   "execution_count": 46,
   "id": "9494ae89",
   "metadata": {},
   "outputs": [
    {
     "name": "stdout",
     "output_type": "stream",
     "text": [
      "tensor([[1., 1., 1.],\n",
      "        [1., 6., 1.]])\n",
      "[[1. 1. 1.]\n",
      " [1. 6. 1.]]\n"
     ]
    }
   ],
   "source": [
    "print(a)\n",
    "print(b)"
   ]
  },
  {
   "cell_type": "code",
   "execution_count": 50,
   "id": "b6ad167e",
   "metadata": {},
   "outputs": [],
   "source": [
    "a = torch.rand(3,3, requires_grad=True)"
   ]
  },
  {
   "cell_type": "code",
   "execution_count": 51,
   "id": "6d9f4eec",
   "metadata": {},
   "outputs": [
    {
     "data": {
      "text/plain": [
       "tensor([[0.0555, 0.9031, 0.9985],\n",
       "        [0.4294, 0.2303, 0.9579],\n",
       "        [0.9283, 0.2261, 0.1962]], requires_grad=True)"
      ]
     },
     "execution_count": 51,
     "metadata": {},
     "output_type": "execute_result"
    }
   ],
   "source": [
    "a"
   ]
  },
  {
   "cell_type": "markdown",
   "id": "c5a96417",
   "metadata": {},
   "source": [
    "### Autograd"
   ]
  },
  {
   "cell_type": "code",
   "execution_count": 73,
   "id": "31edd77a",
   "metadata": {},
   "outputs": [],
   "source": [
    "a = torch.rand(3,3, requires_grad=True)\n",
    "b = a+2"
   ]
  },
  {
   "cell_type": "code",
   "execution_count": 64,
   "id": "5226fdf6",
   "metadata": {},
   "outputs": [
    {
     "data": {
      "text/plain": [
       "tensor([[2.2467, 2.6212, 2.4623],\n",
       "        [2.2402, 2.0733, 2.6827],\n",
       "        [2.3128, 2.8487, 2.6458]], grad_fn=<AddBackward0>)"
      ]
     },
     "execution_count": 64,
     "metadata": {},
     "output_type": "execute_result"
    }
   ],
   "source": [
    "b"
   ]
  },
  {
   "cell_type": "code",
   "execution_count": 65,
   "id": "91ebf66a",
   "metadata": {},
   "outputs": [
    {
     "name": "stdout",
     "output_type": "stream",
     "text": [
      "tensor([[ 9.5413, 12.1132, 10.9873],\n",
      "        [ 9.4986,  8.4455, 12.5621],\n",
      "        [ 9.9744, 13.8129, 12.2920]], grad_fn=<MulBackward0>)\n"
     ]
    }
   ],
   "source": [
    "c = b*(b+2)\n",
    "print(c)"
   ]
  },
  {
   "cell_type": "code",
   "execution_count": 66,
   "id": "dbe999b0",
   "metadata": {},
   "outputs": [
    {
     "name": "stdout",
     "output_type": "stream",
     "text": [
      "tensor(2.4593, grad_fn=<MeanBackward0>)\n"
     ]
    }
   ],
   "source": [
    "print(b.mean())"
   ]
  },
  {
   "cell_type": "code",
   "execution_count": 67,
   "id": "281f75d1",
   "metadata": {},
   "outputs": [
    {
     "name": "stdout",
     "output_type": "stream",
     "text": [
      "tensor([[0.2467, 0.6212, 0.4623],\n",
      "        [0.2402, 0.0733, 0.6827],\n",
      "        [0.3128, 0.8487, 0.6458]], requires_grad=True)\n",
      "None\n"
     ]
    }
   ],
   "source": [
    "print(a)\n",
    "print(a.grad)"
   ]
  },
  {
   "cell_type": "code",
   "execution_count": 69,
   "id": "f0e57462",
   "metadata": {},
   "outputs": [],
   "source": [
    "c.sum().backward()"
   ]
  },
  {
   "cell_type": "code",
   "execution_count": 71,
   "id": "376b1f5b",
   "metadata": {},
   "outputs": [
    {
     "name": "stdout",
     "output_type": "stream",
     "text": [
      "tensor([[6.4935, 7.2424, 6.9245],\n",
      "        [6.4803, 6.1467, 7.3654],\n",
      "        [6.6255, 7.6975, 7.2916]])\n"
     ]
    }
   ],
   "source": [
    "print(a.grad)"
   ]
  },
  {
   "cell_type": "code",
   "execution_count": 74,
   "id": "ecebffac",
   "metadata": {},
   "outputs": [
    {
     "name": "stdout",
     "output_type": "stream",
     "text": [
      "tensor([[1., 1., 1.],\n",
      "        [1., 1., 1.],\n",
      "        [1., 1., 1.]])\n"
     ]
    }
   ],
   "source": [
    "b.sum().backward()\n",
    "print(a.grad)"
   ]
  },
  {
   "cell_type": "code",
   "execution_count": 76,
   "id": "3f8c07b9",
   "metadata": {},
   "outputs": [
    {
     "data": {
      "text/plain": [
       "tensor([[0.3553, 0.4161, 0.6694],\n",
       "        [0.5706, 0.2688, 0.2390],\n",
       "        [0.5648, 0.1770, 0.6837]])"
      ]
     },
     "execution_count": 76,
     "metadata": {},
     "output_type": "execute_result"
    }
   ],
   "source": [
    "a.requires_grad_(False)\n",
    "#b.requires_grad_(False)"
   ]
  },
  {
   "cell_type": "code",
   "execution_count": 77,
   "id": "bffa636c",
   "metadata": {},
   "outputs": [],
   "source": [
    "a = torch.rand(2,2, requires_grad=True)\n",
    "\n",
    "with torch.no_grad():\n",
    "    b = a+2"
   ]
  },
  {
   "cell_type": "code",
   "execution_count": 79,
   "id": "749ffd54",
   "metadata": {},
   "outputs": [
    {
     "name": "stdout",
     "output_type": "stream",
     "text": [
      "tensor([[0.5026, 0.8944],\n",
      "        [0.5273, 0.5790]], requires_grad=True)\n"
     ]
    }
   ],
   "source": [
    "print(a)"
   ]
  },
  {
   "cell_type": "code",
   "execution_count": 81,
   "id": "cff7f8e1",
   "metadata": {},
   "outputs": [
    {
     "name": "stdout",
     "output_type": "stream",
     "text": [
      "tensor([[3., 3.],\n",
      "        [3., 3.]])\n",
      "tensor([[6., 6.],\n",
      "        [6., 6.]])\n"
     ]
    }
   ],
   "source": [
    "weights = torch.ones(2,2,requires_grad=True)\n",
    "for epoch in range(2):\n",
    "    model_output = (weights*3).sum()\n",
    "    model_output.backward()\n",
    "    print(weights.grad)"
   ]
  },
  {
   "cell_type": "code",
   "execution_count": 82,
   "id": "8f19dc97",
   "metadata": {},
   "outputs": [
    {
     "name": "stdout",
     "output_type": "stream",
     "text": [
      "tensor([[3., 3.],\n",
      "        [3., 3.]])\n",
      "tensor([[3., 3.],\n",
      "        [3., 3.]])\n"
     ]
    }
   ],
   "source": [
    "weights = torch.ones(2,2,requires_grad=True)\n",
    "for epoch in range(2):\n",
    "    model_output = (weights*3).sum()\n",
    "    model_output.backward()\n",
    "    print(weights.grad)\n",
    "    weights.grad.zero_()"
   ]
  },
  {
   "cell_type": "markdown",
   "id": "9604e28b",
   "metadata": {},
   "source": [
    "### Backprop"
   ]
  },
  {
   "cell_type": "code",
   "execution_count": 2,
   "id": "25e61902",
   "metadata": {},
   "outputs": [],
   "source": [
    "x = torch.tensor(1.0)\n",
    "y = torch.tensor(2.0)"
   ]
  },
  {
   "cell_type": "code",
   "execution_count": 3,
   "id": "07fd10f8",
   "metadata": {},
   "outputs": [],
   "source": [
    "w = torch.tensor(1.0, requires_grad=True)\n",
    "#forward pass\n",
    "y1 = w*x\n",
    "loss = (y1-y)**2"
   ]
  },
  {
   "cell_type": "code",
   "execution_count": 4,
   "id": "aa21279b",
   "metadata": {},
   "outputs": [
    {
     "data": {
      "text/plain": [
       "tensor(1., grad_fn=<PowBackward0>)"
      ]
     },
     "execution_count": 4,
     "metadata": {},
     "output_type": "execute_result"
    }
   ],
   "source": [
    "loss"
   ]
  },
  {
   "cell_type": "code",
   "execution_count": 5,
   "id": "5786e930",
   "metadata": {},
   "outputs": [],
   "source": [
    "loss.backward()"
   ]
  },
  {
   "cell_type": "code",
   "execution_count": 6,
   "id": "83403930",
   "metadata": {},
   "outputs": [
    {
     "data": {
      "text/plain": [
       "tensor(-2.)"
      ]
     },
     "execution_count": 6,
     "metadata": {},
     "output_type": "execute_result"
    }
   ],
   "source": [
    "w.grad"
   ]
  },
  {
   "cell_type": "markdown",
   "id": "9d73d4b1",
   "metadata": {},
   "source": [
    "### Gradient descent"
   ]
  },
  {
   "cell_type": "code",
   "execution_count": 13,
   "id": "e91417a6",
   "metadata": {},
   "outputs": [],
   "source": [
    "import numpy as np"
   ]
  },
  {
   "cell_type": "code",
   "execution_count": 14,
   "id": "d15064b0",
   "metadata": {},
   "outputs": [],
   "source": [
    "X = np.array([1,2,3,4], dtype=np.float32)\n",
    "Y = np.array([2,4,6,8], dtype=np.float32)\n",
    "w = 0.0"
   ]
  },
  {
   "cell_type": "code",
   "execution_count": 15,
   "id": "87e9e3ab",
   "metadata": {},
   "outputs": [
    {
     "name": "stdout",
     "output_type": "stream",
     "text": [
      "pred  before training 0.0\n",
      "epoch 1 w =  1.200 loss = 30.00000000\n",
      "epoch 2 w =  1.680 loss = 4.79999924\n",
      "epoch 3 w =  1.872 loss = 0.76800019\n",
      "epoch 4 w =  1.949 loss = 0.12288000\n",
      "epoch 5 w =  1.980 loss = 0.01966083\n",
      "epoch 6 w =  1.992 loss = 0.00314574\n",
      "epoch 7 w =  1.997 loss = 0.00050331\n",
      "epoch 8 w =  1.999 loss = 0.00008053\n",
      "epoch 9 w =  1.999 loss = 0.00001288\n",
      "epoch 10 w =  2.000 loss = 0.00000206\n"
     ]
    }
   ],
   "source": [
    "def forward(x):\n",
    "    return w*x\n",
    "\n",
    "def loss(y, y_pred):\n",
    "    return ((y-y_pred)**2).mean()\n",
    "\n",
    "def gradient(x, y,y_pred):\n",
    "    return np.dot(2*x,y_pred-y).mean()\n",
    "\n",
    "print(f'pred  before training {forward(5)}')\n",
    "\n",
    "n_iter = 10\n",
    "lr     = 0.01\n",
    "for epoch in range(n_iter):\n",
    "    y_pred = forward(X)\n",
    "    l   = loss(Y, y_pred)\n",
    "    dw     = gradient(X, Y, y_pred)\n",
    "    w     -= lr*dw\n",
    "    print(f'epoch {epoch+1} w =  {w:.3f} loss = {l:.8f}')"
   ]
  },
  {
   "cell_type": "code",
   "execution_count": 16,
   "id": "3a7d912f",
   "metadata": {},
   "outputs": [
    {
     "name": "stdout",
     "output_type": "stream",
     "text": [
      "prediction 9.998951268196105\n"
     ]
    }
   ],
   "source": [
    "print(f'prediction {forward(5)}')"
   ]
  },
  {
   "cell_type": "code",
   "execution_count": 21,
   "id": "90aa3431",
   "metadata": {},
   "outputs": [],
   "source": [
    "X = torch.tensor([1,2,3,4], dtype=torch.float32)\n",
    "Y = torch.tensor([2,4,6,8], dtype=torch.float32)\n",
    "w = torch.tensor(0.0, dtype = torch.float32, requires_grad=True)"
   ]
  },
  {
   "cell_type": "code",
   "execution_count": 22,
   "id": "04aa612b",
   "metadata": {},
   "outputs": [
    {
     "name": "stdout",
     "output_type": "stream",
     "text": [
      "pred  before training 0.0\n",
      "epoch 1 w =  0.300 loss = 30.00000000\n",
      "epoch 2 w =  0.555 loss = 21.67499924\n",
      "epoch 3 w =  0.772 loss = 15.66018772\n",
      "epoch 4 w =  0.956 loss = 11.31448650\n",
      "epoch 5 w =  1.113 loss = 8.17471695\n",
      "epoch 6 w =  1.246 loss = 5.90623236\n",
      "epoch 7 w =  1.359 loss = 4.26725292\n",
      "epoch 8 w =  1.455 loss = 3.08308983\n",
      "epoch 9 w =  1.537 loss = 2.22753215\n",
      "epoch 10 w =  1.606 loss = 1.60939169\n",
      "epoch 11 w =  1.665 loss = 1.16278565\n",
      "epoch 12 w =  1.716 loss = 0.84011245\n",
      "epoch 13 w =  1.758 loss = 0.60698116\n",
      "epoch 14 w =  1.794 loss = 0.43854395\n",
      "epoch 15 w =  1.825 loss = 0.31684780\n",
      "epoch 16 w =  1.851 loss = 0.22892261\n",
      "epoch 17 w =  1.874 loss = 0.16539653\n",
      "epoch 18 w =  1.893 loss = 0.11949898\n",
      "epoch 19 w =  1.909 loss = 0.08633806\n",
      "epoch 20 w =  1.922 loss = 0.06237914\n",
      "epoch 21 w =  1.934 loss = 0.04506890\n",
      "epoch 22 w =  1.944 loss = 0.03256231\n",
      "epoch 23 w =  1.952 loss = 0.02352631\n",
      "epoch 24 w =  1.960 loss = 0.01699772\n",
      "epoch 25 w =  1.966 loss = 0.01228084\n",
      "epoch 26 w =  1.971 loss = 0.00887291\n",
      "epoch 27 w =  1.975 loss = 0.00641066\n",
      "epoch 28 w =  1.979 loss = 0.00463169\n",
      "epoch 29 w =  1.982 loss = 0.00334642\n",
      "epoch 30 w =  1.985 loss = 0.00241778\n",
      "epoch 31 w =  1.987 loss = 0.00174685\n",
      "epoch 32 w =  1.989 loss = 0.00126211\n",
      "epoch 33 w =  1.991 loss = 0.00091188\n",
      "epoch 34 w =  1.992 loss = 0.00065882\n",
      "epoch 35 w =  1.993 loss = 0.00047601\n",
      "epoch 36 w =  1.994 loss = 0.00034392\n",
      "epoch 37 w =  1.995 loss = 0.00024848\n",
      "epoch 38 w =  1.996 loss = 0.00017952\n",
      "epoch 39 w =  1.996 loss = 0.00012971\n",
      "epoch 40 w =  1.997 loss = 0.00009371\n",
      "epoch 41 w =  1.997 loss = 0.00006770\n",
      "epoch 42 w =  1.998 loss = 0.00004891\n",
      "epoch 43 w =  1.998 loss = 0.00003534\n",
      "epoch 44 w =  1.998 loss = 0.00002553\n",
      "epoch 45 w =  1.999 loss = 0.00001845\n",
      "epoch 46 w =  1.999 loss = 0.00001333\n",
      "epoch 47 w =  1.999 loss = 0.00000963\n",
      "epoch 48 w =  1.999 loss = 0.00000696\n",
      "epoch 49 w =  1.999 loss = 0.00000503\n",
      "epoch 50 w =  1.999 loss = 0.00000363\n",
      "epoch 51 w =  1.999 loss = 0.00000262\n",
      "epoch 52 w =  2.000 loss = 0.00000190\n",
      "epoch 53 w =  2.000 loss = 0.00000137\n",
      "epoch 54 w =  2.000 loss = 0.00000099\n",
      "epoch 55 w =  2.000 loss = 0.00000071\n",
      "epoch 56 w =  2.000 loss = 0.00000052\n",
      "epoch 57 w =  2.000 loss = 0.00000037\n",
      "epoch 58 w =  2.000 loss = 0.00000027\n",
      "epoch 59 w =  2.000 loss = 0.00000019\n",
      "epoch 60 w =  2.000 loss = 0.00000014\n",
      "epoch 61 w =  2.000 loss = 0.00000010\n",
      "epoch 62 w =  2.000 loss = 0.00000007\n",
      "epoch 63 w =  2.000 loss = 0.00000005\n",
      "epoch 64 w =  2.000 loss = 0.00000004\n",
      "epoch 65 w =  2.000 loss = 0.00000003\n",
      "epoch 66 w =  2.000 loss = 0.00000002\n",
      "epoch 67 w =  2.000 loss = 0.00000001\n",
      "epoch 68 w =  2.000 loss = 0.00000001\n",
      "epoch 69 w =  2.000 loss = 0.00000001\n",
      "epoch 70 w =  2.000 loss = 0.00000001\n",
      "epoch 71 w =  2.000 loss = 0.00000000\n",
      "epoch 72 w =  2.000 loss = 0.00000000\n",
      "epoch 73 w =  2.000 loss = 0.00000000\n",
      "epoch 74 w =  2.000 loss = 0.00000000\n",
      "epoch 75 w =  2.000 loss = 0.00000000\n",
      "epoch 76 w =  2.000 loss = 0.00000000\n",
      "epoch 77 w =  2.000 loss = 0.00000000\n",
      "epoch 78 w =  2.000 loss = 0.00000000\n",
      "epoch 79 w =  2.000 loss = 0.00000000\n",
      "epoch 80 w =  2.000 loss = 0.00000000\n",
      "epoch 81 w =  2.000 loss = 0.00000000\n",
      "epoch 82 w =  2.000 loss = 0.00000000\n",
      "epoch 83 w =  2.000 loss = 0.00000000\n",
      "epoch 84 w =  2.000 loss = 0.00000000\n",
      "epoch 85 w =  2.000 loss = 0.00000000\n",
      "epoch 86 w =  2.000 loss = 0.00000000\n",
      "epoch 87 w =  2.000 loss = 0.00000000\n",
      "epoch 88 w =  2.000 loss = 0.00000000\n",
      "epoch 89 w =  2.000 loss = 0.00000000\n",
      "epoch 90 w =  2.000 loss = 0.00000000\n",
      "epoch 91 w =  2.000 loss = 0.00000000\n",
      "epoch 92 w =  2.000 loss = 0.00000000\n",
      "epoch 93 w =  2.000 loss = 0.00000000\n",
      "epoch 94 w =  2.000 loss = 0.00000000\n",
      "epoch 95 w =  2.000 loss = 0.00000000\n",
      "epoch 96 w =  2.000 loss = 0.00000000\n",
      "epoch 97 w =  2.000 loss = 0.00000000\n",
      "epoch 98 w =  2.000 loss = 0.00000000\n",
      "epoch 99 w =  2.000 loss = 0.00000000\n",
      "epoch 100 w =  2.000 loss = 0.00000000\n",
      "prediction 9.999998092651367\n"
     ]
    }
   ],
   "source": [
    "def forward(x):\n",
    "    return w*x\n",
    "\n",
    "def loss(y, y_pred):\n",
    "    return ((y-y_pred)**2).mean()\n",
    "\n",
    "\n",
    "print(f'pred  before training {forward(5)}')\n",
    "\n",
    "n_iter = 100\n",
    "lr     = 0.01\n",
    "for epoch in range(n_iter):\n",
    "    y_pred = forward(X)\n",
    "    l   = loss(Y, y_pred)\n",
    "    l.backward()\n",
    "    #dw     = gradient(X, Y, y_pred)\n",
    "    with torch.no_grad():\n",
    "        w     -= lr*w.grad\n",
    "    w.grad.zero_()\n",
    "    print(f'epoch {epoch+1} w =  {w:.3f} loss = {l:.8f}')\n",
    "print(f'prediction {forward(5)}')"
   ]
  },
  {
   "cell_type": "markdown",
   "id": "e91df63e",
   "metadata": {},
   "source": [
    "### Training Pipeline"
   ]
  },
  {
   "cell_type": "code",
   "execution_count": 23,
   "id": "f6e230f7",
   "metadata": {},
   "outputs": [
    {
     "name": "stdout",
     "output_type": "stream",
     "text": [
      "pred  before training 0.0\n",
      "epoch 1 w =  0.300 loss = 30.00000000\n",
      "epoch 2 w =  0.555 loss = 21.67499924\n",
      "epoch 3 w =  0.772 loss = 15.66018772\n",
      "epoch 4 w =  0.956 loss = 11.31448650\n",
      "epoch 5 w =  1.113 loss = 8.17471695\n",
      "epoch 6 w =  1.246 loss = 5.90623236\n",
      "epoch 7 w =  1.359 loss = 4.26725292\n",
      "epoch 8 w =  1.455 loss = 3.08308983\n",
      "epoch 9 w =  1.537 loss = 2.22753215\n",
      "epoch 10 w =  1.606 loss = 1.60939169\n",
      "epoch 11 w =  1.665 loss = 1.16278565\n",
      "epoch 12 w =  1.716 loss = 0.84011245\n",
      "epoch 13 w =  1.758 loss = 0.60698116\n",
      "epoch 14 w =  1.794 loss = 0.43854395\n",
      "epoch 15 w =  1.825 loss = 0.31684780\n",
      "epoch 16 w =  1.851 loss = 0.22892261\n",
      "epoch 17 w =  1.874 loss = 0.16539653\n",
      "epoch 18 w =  1.893 loss = 0.11949898\n",
      "epoch 19 w =  1.909 loss = 0.08633806\n",
      "epoch 20 w =  1.922 loss = 0.06237914\n",
      "epoch 21 w =  1.934 loss = 0.04506890\n",
      "epoch 22 w =  1.944 loss = 0.03256231\n",
      "epoch 23 w =  1.952 loss = 0.02352631\n",
      "epoch 24 w =  1.960 loss = 0.01699772\n",
      "epoch 25 w =  1.966 loss = 0.01228084\n",
      "epoch 26 w =  1.971 loss = 0.00887291\n",
      "epoch 27 w =  1.975 loss = 0.00641066\n",
      "epoch 28 w =  1.979 loss = 0.00463169\n",
      "epoch 29 w =  1.982 loss = 0.00334642\n",
      "epoch 30 w =  1.985 loss = 0.00241778\n",
      "epoch 31 w =  1.987 loss = 0.00174685\n",
      "epoch 32 w =  1.989 loss = 0.00126211\n",
      "epoch 33 w =  1.991 loss = 0.00091188\n",
      "epoch 34 w =  1.992 loss = 0.00065882\n",
      "epoch 35 w =  1.993 loss = 0.00047601\n",
      "epoch 36 w =  1.994 loss = 0.00034392\n",
      "epoch 37 w =  1.995 loss = 0.00024848\n",
      "epoch 38 w =  1.996 loss = 0.00017952\n",
      "epoch 39 w =  1.996 loss = 0.00012971\n",
      "epoch 40 w =  1.997 loss = 0.00009371\n",
      "epoch 41 w =  1.997 loss = 0.00006770\n",
      "epoch 42 w =  1.998 loss = 0.00004891\n",
      "epoch 43 w =  1.998 loss = 0.00003534\n",
      "epoch 44 w =  1.998 loss = 0.00002553\n",
      "epoch 45 w =  1.999 loss = 0.00001845\n",
      "epoch 46 w =  1.999 loss = 0.00001333\n",
      "epoch 47 w =  1.999 loss = 0.00000963\n",
      "epoch 48 w =  1.999 loss = 0.00000696\n",
      "epoch 49 w =  1.999 loss = 0.00000503\n",
      "epoch 50 w =  1.999 loss = 0.00000363\n",
      "epoch 51 w =  1.999 loss = 0.00000262\n",
      "epoch 52 w =  2.000 loss = 0.00000190\n",
      "epoch 53 w =  2.000 loss = 0.00000137\n",
      "epoch 54 w =  2.000 loss = 0.00000099\n",
      "epoch 55 w =  2.000 loss = 0.00000071\n",
      "epoch 56 w =  2.000 loss = 0.00000052\n",
      "epoch 57 w =  2.000 loss = 0.00000037\n",
      "epoch 58 w =  2.000 loss = 0.00000027\n",
      "epoch 59 w =  2.000 loss = 0.00000019\n",
      "epoch 60 w =  2.000 loss = 0.00000014\n",
      "epoch 61 w =  2.000 loss = 0.00000010\n",
      "epoch 62 w =  2.000 loss = 0.00000007\n",
      "epoch 63 w =  2.000 loss = 0.00000005\n",
      "epoch 64 w =  2.000 loss = 0.00000004\n",
      "epoch 65 w =  2.000 loss = 0.00000003\n",
      "epoch 66 w =  2.000 loss = 0.00000002\n",
      "epoch 67 w =  2.000 loss = 0.00000001\n",
      "epoch 68 w =  2.000 loss = 0.00000001\n",
      "epoch 69 w =  2.000 loss = 0.00000001\n",
      "epoch 70 w =  2.000 loss = 0.00000001\n",
      "epoch 71 w =  2.000 loss = 0.00000000\n",
      "epoch 72 w =  2.000 loss = 0.00000000\n",
      "epoch 73 w =  2.000 loss = 0.00000000\n",
      "epoch 74 w =  2.000 loss = 0.00000000\n",
      "epoch 75 w =  2.000 loss = 0.00000000\n",
      "epoch 76 w =  2.000 loss = 0.00000000\n",
      "epoch 77 w =  2.000 loss = 0.00000000\n",
      "epoch 78 w =  2.000 loss = 0.00000000\n",
      "epoch 79 w =  2.000 loss = 0.00000000\n",
      "epoch 80 w =  2.000 loss = 0.00000000\n",
      "epoch 81 w =  2.000 loss = 0.00000000\n",
      "epoch 82 w =  2.000 loss = 0.00000000\n",
      "epoch 83 w =  2.000 loss = 0.00000000\n",
      "epoch 84 w =  2.000 loss = 0.00000000\n",
      "epoch 85 w =  2.000 loss = 0.00000000\n",
      "epoch 86 w =  2.000 loss = 0.00000000\n",
      "epoch 87 w =  2.000 loss = 0.00000000\n",
      "epoch 88 w =  2.000 loss = 0.00000000\n",
      "epoch 89 w =  2.000 loss = 0.00000000\n",
      "epoch 90 w =  2.000 loss = 0.00000000\n",
      "epoch 91 w =  2.000 loss = 0.00000000\n",
      "epoch 92 w =  2.000 loss = 0.00000000\n",
      "epoch 93 w =  2.000 loss = 0.00000000\n",
      "epoch 94 w =  2.000 loss = 0.00000000\n",
      "epoch 95 w =  2.000 loss = 0.00000000\n",
      "epoch 96 w =  2.000 loss = 0.00000000\n",
      "epoch 97 w =  2.000 loss = 0.00000000\n",
      "epoch 98 w =  2.000 loss = 0.00000000\n",
      "epoch 99 w =  2.000 loss = 0.00000000\n",
      "epoch 100 w =  2.000 loss = 0.00000000\n",
      "prediction 9.999998092651367\n"
     ]
    }
   ],
   "source": [
    "import torch.nn as nn\n",
    "\n",
    "\n",
    "X = torch.tensor([1,2,3,4], dtype=torch.float32)\n",
    "Y = torch.tensor([2,4,6,8], dtype=torch.float32)\n",
    "w = torch.tensor(0.0, dtype = torch.float32, requires_grad=True)\n",
    "\n",
    "\n",
    "def forward(x):\n",
    "    return w*x\n",
    "\n",
    "\n",
    "\n",
    "print(f'pred  before training {forward(5)}')\n",
    "\n",
    "loss      = nn.MSELoss()\n",
    "optimizer = torch.optim.SGD([w], lr=lr) \n",
    "\n",
    "n_iter = 100\n",
    "lr     = 0.01\n",
    "for epoch in range(n_iter):\n",
    "    y_pred = forward(X)\n",
    "    l   = loss(Y, y_pred)\n",
    "    l.backward()\n",
    "    optimizer.step()\n",
    "    optimizer.zero_grad()\n",
    "    print(f'epoch {epoch+1} w =  {w:.3f} loss = {l:.8f}')\n",
    "print(f'prediction {forward(5)}')\n"
   ]
  },
  {
   "cell_type": "code",
   "execution_count": 29,
   "id": "700cdd0c",
   "metadata": {},
   "outputs": [
    {
     "name": "stdout",
     "output_type": "stream",
     "text": [
      "4 1\n",
      "pred  before training 0.07626056671142578\n",
      "epoch 1 w =  0.184  loss = 27.32563019\n",
      "epoch 2 w =  0.423  loss = 19.02868843\n",
      "epoch 3 w =  0.622  loss = 13.27121162\n",
      "epoch 4 w =  0.787  loss = 9.27581596\n",
      "epoch 5 w =  0.926  loss = 6.50309324\n",
      "epoch 6 w =  1.041  loss = 4.57876015\n",
      "epoch 7 w =  1.137  loss = 3.24310994\n",
      "epoch 8 w =  1.218  loss = 2.31593561\n",
      "epoch 9 w =  1.285  loss = 1.67219639\n",
      "epoch 10 w =  1.341  loss = 1.22512913\n",
      "epoch 11 w =  1.388  loss = 0.91453147\n",
      "epoch 12 w =  1.427  loss = 0.69862944\n",
      "epoch 13 w =  1.460  loss = 0.54843611\n",
      "epoch 14 w =  1.488  loss = 0.44383949\n",
      "epoch 15 w =  1.511  loss = 0.37088379\n",
      "epoch 16 w =  1.531  loss = 0.31988528\n",
      "epoch 17 w =  1.547  loss = 0.28412426\n",
      "epoch 18 w =  1.561  loss = 0.25893918\n",
      "epoch 19 w =  1.573  loss = 0.24109422\n",
      "epoch 20 w =  1.583  loss = 0.22834471\n",
      "epoch 21 w =  1.591  loss = 0.21913297\n",
      "epoch 22 w =  1.598  loss = 0.21237820\n",
      "epoch 23 w =  1.605  loss = 0.20733073\n",
      "epoch 24 w =  1.610  loss = 0.20346981\n",
      "epoch 25 w =  1.615  loss = 0.20043452\n",
      "epoch 26 w =  1.619  loss = 0.19797410\n",
      "epoch 27 w =  1.622  loss = 0.19591466\n",
      "epoch 28 w =  1.625  loss = 0.19413573\n",
      "epoch 29 w =  1.628  loss = 0.19255331\n",
      "epoch 30 w =  1.631  loss = 0.19110942\n",
      "epoch 31 w =  1.633  loss = 0.18976381\n",
      "epoch 32 w =  1.635  loss = 0.18848844\n",
      "epoch 33 w =  1.637  loss = 0.18726370\n",
      "epoch 34 w =  1.639  loss = 0.18607630\n",
      "epoch 35 w =  1.640  loss = 0.18491670\n",
      "epoch 36 w =  1.642  loss = 0.18377857\n",
      "epoch 37 w =  1.643  loss = 0.18265708\n",
      "epoch 38 w =  1.645  loss = 0.18154924\n",
      "epoch 39 w =  1.646  loss = 0.18045294\n",
      "epoch 40 w =  1.647  loss = 0.17936647\n",
      "epoch 41 w =  1.649  loss = 0.17828883\n",
      "epoch 42 w =  1.650  loss = 0.17721915\n",
      "epoch 43 w =  1.651  loss = 0.17615709\n",
      "epoch 44 w =  1.652  loss = 0.17510214\n",
      "epoch 45 w =  1.653  loss = 0.17405398\n",
      "epoch 46 w =  1.654  loss = 0.17301245\n",
      "epoch 47 w =  1.656  loss = 0.17197743\n",
      "epoch 48 w =  1.657  loss = 0.17094888\n",
      "epoch 49 w =  1.658  loss = 0.16992646\n",
      "epoch 50 w =  1.659  loss = 0.16891035\n",
      "epoch 51 w =  1.660  loss = 0.16790035\n",
      "epoch 52 w =  1.661  loss = 0.16689631\n",
      "epoch 53 w =  1.662  loss = 0.16589843\n",
      "epoch 54 w =  1.663  loss = 0.16490659\n",
      "epoch 55 w =  1.664  loss = 0.16392057\n",
      "epoch 56 w =  1.665  loss = 0.16294046\n",
      "epoch 57 w =  1.666  loss = 0.16196629\n",
      "epoch 58 w =  1.667  loss = 0.16099790\n",
      "epoch 59 w =  1.668  loss = 0.16003530\n",
      "epoch 60 w =  1.669  loss = 0.15907846\n",
      "epoch 61 w =  1.670  loss = 0.15812746\n",
      "epoch 62 w =  1.671  loss = 0.15718193\n",
      "epoch 63 w =  1.672  loss = 0.15624219\n",
      "epoch 64 w =  1.673  loss = 0.15530802\n",
      "epoch 65 w =  1.674  loss = 0.15437949\n",
      "epoch 66 w =  1.675  loss = 0.15345651\n",
      "epoch 67 w =  1.676  loss = 0.15253894\n",
      "epoch 68 w =  1.677  loss = 0.15162699\n",
      "epoch 69 w =  1.678  loss = 0.15072043\n",
      "epoch 70 w =  1.679  loss = 0.14981934\n",
      "epoch 71 w =  1.680  loss = 0.14892353\n",
      "epoch 72 w =  1.681  loss = 0.14803319\n",
      "epoch 73 w =  1.682  loss = 0.14714807\n",
      "epoch 74 w =  1.683  loss = 0.14626829\n",
      "epoch 75 w =  1.684  loss = 0.14539379\n",
      "epoch 76 w =  1.685  loss = 0.14452457\n",
      "epoch 77 w =  1.685  loss = 0.14366038\n",
      "epoch 78 w =  1.686  loss = 0.14280148\n",
      "epoch 79 w =  1.687  loss = 0.14194772\n",
      "epoch 80 w =  1.688  loss = 0.14109905\n",
      "epoch 81 w =  1.689  loss = 0.14025536\n",
      "epoch 82 w =  1.690  loss = 0.13941683\n",
      "epoch 83 w =  1.691  loss = 0.13858329\n",
      "epoch 84 w =  1.692  loss = 0.13775475\n",
      "epoch 85 w =  1.693  loss = 0.13693118\n",
      "epoch 86 w =  1.694  loss = 0.13611242\n",
      "epoch 87 w =  1.695  loss = 0.13529858\n",
      "epoch 88 w =  1.696  loss = 0.13448969\n",
      "epoch 89 w =  1.697  loss = 0.13368563\n",
      "epoch 90 w =  1.698  loss = 0.13288632\n",
      "epoch 91 w =  1.698  loss = 0.13209182\n",
      "epoch 92 w =  1.699  loss = 0.13130201\n",
      "epoch 93 w =  1.700  loss = 0.13051693\n",
      "epoch 94 w =  1.701  loss = 0.12973666\n",
      "epoch 95 w =  1.702  loss = 0.12896103\n",
      "epoch 96 w =  1.703  loss = 0.12818995\n",
      "epoch 97 w =  1.704  loss = 0.12742355\n",
      "epoch 98 w =  1.705  loss = 0.12666169\n",
      "epoch 99 w =  1.706  loss = 0.12590444\n",
      "epoch 100 w =  1.706  loss = 0.12515159\n",
      "prediction 9.395330429077148\n"
     ]
    }
   ],
   "source": [
    "import torch.nn as nn\n",
    "\n",
    "\n",
    "X = torch.tensor([[1],[2],[3],[4]], dtype=torch.float32)\n",
    "Y = torch.tensor([[2],[4],[6],[8]], dtype=torch.float32)\n",
    "#w = torch.tensor(0.0, dtype = torch.float32, requires_grad=True)\n",
    "\n",
    "print(n_samples, n_features)\n",
    "\n",
    "n_samples, n_features = X.shape\n",
    "\n",
    "input_size  = n_features\n",
    "output_size = n_features  \n",
    "\n",
    "model = nn.Linear(input_size, output_size)\n",
    "\n",
    "X_test = torch.tensor([5], dtype = torch.float32)\n",
    "\n",
    "print(f'pred  before training {model(X_test).item()}')\n",
    "\n",
    "loss      = nn.MSELoss()\n",
    "optimizer = torch.optim.SGD(model.parameters(), lr=lr) \n",
    "\n",
    "n_iter = 100\n",
    "lr     = 0.01\n",
    "for epoch in range(n_iter):\n",
    "    y_pred = model(X)\n",
    "    l   = loss(Y, y_pred)\n",
    "    l.backward()\n",
    "    optimizer.step()\n",
    "    optimizer.zero_grad()\n",
    "    [w,b] = model.parameters()\n",
    "    print(f'epoch {epoch+1} w =  {w[0][0].item():.3f}  loss = {l:.8f}')\n",
    "print(f'prediction {model(X_test).item()}')\n"
   ]
  },
  {
   "cell_type": "code",
   "execution_count": 30,
   "id": "633fa6a5",
   "metadata": {},
   "outputs": [
    {
     "name": "stdout",
     "output_type": "stream",
     "text": [
      "4 1\n",
      "pred  before training -0.11693739891052246\n",
      "epoch 1 w =  0.271  loss = 30.53306580\n",
      "epoch 2 w =  0.523  loss = 21.20793724\n",
      "epoch 3 w =  0.733  loss = 14.73729992\n",
      "epoch 4 w =  0.908  loss = 10.24733543\n",
      "epoch 5 w =  1.054  loss = 7.13171291\n",
      "epoch 6 w =  1.176  loss = 4.96972179\n",
      "epoch 7 w =  1.278  loss = 3.46943521\n",
      "epoch 8 w =  1.362  loss = 2.42829227\n",
      "epoch 9 w =  1.433  loss = 1.70573962\n",
      "epoch 10 w =  1.492  loss = 1.20425141\n",
      "epoch 11 w =  1.541  loss = 0.85615593\n",
      "epoch 12 w =  1.582  loss = 0.61449754\n",
      "epoch 13 w =  1.617  loss = 0.44669309\n",
      "epoch 14 w =  1.645  loss = 0.33013627\n",
      "epoch 15 w =  1.669  loss = 0.24913892\n",
      "epoch 16 w =  1.690  loss = 0.19281664\n",
      "epoch 17 w =  1.706  loss = 0.15361673\n",
      "epoch 18 w =  1.721  loss = 0.12629804\n",
      "epoch 19 w =  1.732  loss = 0.10722433\n",
      "epoch 20 w =  1.743  loss = 0.09387249\n",
      "epoch 21 w =  1.751  loss = 0.08449142\n",
      "epoch 22 w =  1.758  loss = 0.07786642\n",
      "epoch 23 w =  1.764  loss = 0.07315443\n",
      "epoch 24 w =  1.769  loss = 0.06977061\n",
      "epoch 25 w =  1.774  loss = 0.06730890\n",
      "epoch 26 w =  1.777  loss = 0.06548780\n",
      "epoch 27 w =  1.781  loss = 0.06411192\n",
      "epoch 28 w =  1.783  loss = 0.06304552\n",
      "epoch 29 w =  1.786  loss = 0.06219462\n",
      "epoch 30 w =  1.788  loss = 0.06149393\n",
      "epoch 31 w =  1.790  loss = 0.06089808\n",
      "epoch 32 w =  1.792  loss = 0.06037565\n",
      "epoch 33 w =  1.793  loss = 0.05990484\n",
      "epoch 34 w =  1.794  loss = 0.05947042\n",
      "epoch 35 w =  1.796  loss = 0.05906191\n",
      "epoch 36 w =  1.797  loss = 0.05867213\n",
      "epoch 37 w =  1.798  loss = 0.05829589\n",
      "epoch 38 w =  1.799  loss = 0.05792965\n",
      "epoch 39 w =  1.800  loss = 0.05757108\n",
      "epoch 40 w =  1.800  loss = 0.05721837\n",
      "epoch 41 w =  1.801  loss = 0.05687030\n",
      "epoch 42 w =  1.802  loss = 0.05652620\n",
      "epoch 43 w =  1.803  loss = 0.05618538\n",
      "epoch 44 w =  1.803  loss = 0.05584749\n",
      "epoch 45 w =  1.804  loss = 0.05551219\n",
      "epoch 46 w =  1.805  loss = 0.05517937\n",
      "epoch 47 w =  1.805  loss = 0.05484886\n",
      "epoch 48 w =  1.806  loss = 0.05452041\n",
      "epoch 49 w =  1.807  loss = 0.05419414\n",
      "epoch 50 w =  1.807  loss = 0.05386992\n",
      "epoch 51 w =  1.808  loss = 0.05354769\n",
      "epoch 52 w =  1.808  loss = 0.05322738\n",
      "epoch 53 w =  1.809  loss = 0.05290909\n",
      "epoch 54 w =  1.810  loss = 0.05259269\n",
      "epoch 55 w =  1.810  loss = 0.05227825\n",
      "epoch 56 w =  1.811  loss = 0.05196564\n",
      "epoch 57 w =  1.811  loss = 0.05165492\n",
      "epoch 58 w =  1.812  loss = 0.05134604\n",
      "epoch 59 w =  1.813  loss = 0.05103907\n",
      "epoch 60 w =  1.813  loss = 0.05073392\n",
      "epoch 61 w =  1.814  loss = 0.05043063\n",
      "epoch 62 w =  1.814  loss = 0.05012906\n",
      "epoch 63 w =  1.815  loss = 0.04982937\n",
      "epoch 64 w =  1.815  loss = 0.04953148\n",
      "epoch 65 w =  1.816  loss = 0.04923531\n",
      "epoch 66 w =  1.816  loss = 0.04894092\n",
      "epoch 67 w =  1.817  loss = 0.04864834\n",
      "epoch 68 w =  1.818  loss = 0.04835746\n",
      "epoch 69 w =  1.818  loss = 0.04806834\n",
      "epoch 70 w =  1.819  loss = 0.04778095\n",
      "epoch 71 w =  1.819  loss = 0.04749528\n",
      "epoch 72 w =  1.820  loss = 0.04721128\n",
      "epoch 73 w =  1.820  loss = 0.04692899\n",
      "epoch 74 w =  1.821  loss = 0.04664844\n",
      "epoch 75 w =  1.821  loss = 0.04636957\n",
      "epoch 76 w =  1.822  loss = 0.04609234\n",
      "epoch 77 w =  1.822  loss = 0.04581673\n",
      "epoch 78 w =  1.823  loss = 0.04554279\n",
      "epoch 79 w =  1.823  loss = 0.04527050\n",
      "epoch 80 w =  1.824  loss = 0.04499986\n",
      "epoch 81 w =  1.825  loss = 0.04473081\n",
      "epoch 82 w =  1.825  loss = 0.04446335\n",
      "epoch 83 w =  1.826  loss = 0.04419751\n",
      "epoch 84 w =  1.826  loss = 0.04393325\n",
      "epoch 85 w =  1.827  loss = 0.04367059\n",
      "epoch 86 w =  1.827  loss = 0.04340950\n",
      "epoch 87 w =  1.828  loss = 0.04314993\n",
      "epoch 88 w =  1.828  loss = 0.04289197\n",
      "epoch 89 w =  1.829  loss = 0.04263551\n",
      "epoch 90 w =  1.829  loss = 0.04238063\n",
      "epoch 91 w =  1.830  loss = 0.04212722\n",
      "epoch 92 w =  1.830  loss = 0.04187534\n",
      "epoch 93 w =  1.831  loss = 0.04162500\n",
      "epoch 94 w =  1.831  loss = 0.04137610\n",
      "epoch 95 w =  1.832  loss = 0.04112872\n",
      "epoch 96 w =  1.832  loss = 0.04088283\n",
      "epoch 97 w =  1.833  loss = 0.04063840\n",
      "epoch 98 w =  1.833  loss = 0.04039545\n",
      "epoch 99 w =  1.834  loss = 0.04015391\n",
      "epoch 100 w =  1.834  loss = 0.03991382\n",
      "prediction 9.658522605895996\n"
     ]
    }
   ],
   "source": [
    "import torch.nn as nn\n",
    "\n",
    "\n",
    "X = torch.tensor([[1],[2],[3],[4]], dtype=torch.float32)\n",
    "Y = torch.tensor([[2],[4],[6],[8]], dtype=torch.float32)\n",
    "#w = torch.tensor(0.0, dtype = torch.float32, requires_grad=True)\n",
    "\n",
    "print(n_samples, n_features)\n",
    "\n",
    "n_samples, n_features = X.shape\n",
    "\n",
    "input_size  = n_features\n",
    "output_size = n_features  \n",
    "\n",
    "\n",
    "class LinearRegression(nn.Module):\n",
    "    def __init__(self, input_dim, output_dim):\n",
    "        super(LinearRegression, self).__init__()\n",
    "        self.lin = nn.Linear(input_dim, output_dim)\n",
    "        \n",
    "    def forward(self, x):\n",
    "        return self.lin(x)\n",
    "\n",
    "model = LinearRegression(input_size, output_size)\n",
    "\n",
    "X_test = torch.tensor([5], dtype = torch.float32)\n",
    "\n",
    "print(f'pred  before training {model(X_test).item()}')\n",
    "\n",
    "loss      = nn.MSELoss()\n",
    "optimizer = torch.optim.SGD(model.parameters(), lr=lr) \n",
    "\n",
    "n_iter = 100\n",
    "lr     = 0.01\n",
    "for epoch in range(n_iter):\n",
    "    y_pred = model(X)\n",
    "    l   = loss(Y, y_pred)\n",
    "    l.backward()\n",
    "    optimizer.step()\n",
    "    optimizer.zero_grad()\n",
    "    [w,b] = model.parameters()\n",
    "    print(f'epoch {epoch+1} w =  {w[0][0].item():.3f}  loss = {l:.8f}')\n",
    "print(f'prediction {model(X_test).item()}')\n"
   ]
  },
  {
   "cell_type": "markdown",
   "id": "9500fc1f",
   "metadata": {},
   "source": [
    "### Linear Regression"
   ]
  },
  {
   "cell_type": "code",
   "execution_count": 35,
   "id": "9a9dec34",
   "metadata": {},
   "outputs": [],
   "source": [
    "import torch\n",
    "import torch.nn as nn\n",
    "import numpy as np\n",
    "from sklearn import datasets\n",
    "import matplotlib.pyplot as plt"
   ]
  },
  {
   "cell_type": "code",
   "execution_count": 37,
   "id": "16fe4436",
   "metadata": {},
   "outputs": [],
   "source": [
    "X_numpy, y_numpy = datasets.make_regression(n_samples=100, n_features=1, noise=20, random_state=1)\n",
    "X = torch.from_numpy(X_numpy.astype(np.float32))\n",
    "y = torch.from_numpy(y_numpy.astype(np.float32))"
   ]
  },
  {
   "cell_type": "code",
   "execution_count": 41,
   "id": "c41cd3f4",
   "metadata": {},
   "outputs": [],
   "source": [
    "y = y.view(y.shape[0],1)"
   ]
  },
  {
   "cell_type": "code",
   "execution_count": 42,
   "id": "45cca33a",
   "metadata": {},
   "outputs": [],
   "source": [
    "n_samples, n_features = X.shape"
   ]
  },
  {
   "cell_type": "code",
   "execution_count": 45,
   "id": "b7f2c055",
   "metadata": {},
   "outputs": [
    {
     "name": "stdout",
     "output_type": "stream",
     "text": [
      "epoch:10, loss: 4286.5962\n",
      "epoch:20, loss: 3202.4099\n",
      "epoch:30, loss: 2417.2410\n",
      "epoch:40, loss: 1848.0507\n",
      "epoch:50, loss: 1435.0472\n",
      "epoch:60, loss: 1135.1167\n",
      "epoch:70, loss: 917.1295\n",
      "epoch:80, loss: 758.5838\n",
      "epoch:90, loss: 643.1937\n",
      "epoch:100, loss: 559.1614\n"
     ]
    },
    {
     "data": {
      "image/png": "[encoded data removed]",
      "text/plain": [
       "<Figure size 432x288 with 1 Axes>"
      ]
     },
     "metadata": {
      "needs_background": "light"
     },
     "output_type": "display_data"
    }
   ],
   "source": [
    "input_size  = n_features\n",
    "output_size = 1\n",
    "model = nn.Linear(input_size, output_size)\n",
    "\n",
    "learning_rate = 0.01\n",
    "\n",
    "criterion = nn.MSELoss()\n",
    "optimizer = torch.optim.SGD(model.parameters(), lr=learning_rate)\n",
    "\n",
    "\n",
    "num_epoch = 100\n",
    "for epoch in range(num_epoch):\n",
    "    y_pred = model(X)\n",
    "    loss   = criterion(y_pred, y)\n",
    "    loss.backward()\n",
    "    optimizer.step()\n",
    "    optimizer.zero_grad()\n",
    "    if((epoch+1)%10==0):\n",
    "        print(f'epoch:{epoch+1}, loss: {loss:.4f}')\n",
    "        \n",
    "predicted = model(X).detach().numpy()\n",
    "plt.plot(X_numpy, y_numpy, 'ro')\n",
    "plt.plot(X_numpy, predicted, 'b')\n",
    "plt.show()\n"
   ]
  },
  {
   "cell_type": "markdown",
   "id": "67a5155d",
   "metadata": {},
   "source": [
    "### Logistic Regression"
   ]
  },
  {
   "cell_type": "code",
   "execution_count": 46,
   "id": "de4a2556",
   "metadata": {},
   "outputs": [],
   "source": [
    "from sklearn.preprocessing import StandardScaler\n",
    "from sklearn.model_selection import train_test_split\n",
    "\n",
    "\n",
    "\n",
    "bc  = datasets.load_breast_cancer()\n",
    "\n",
    "X,y = bc.data, bc.target\n",
    "\n",
    "n_samples, n_features            = X.shape\n",
    "X_train, X_test, y_train, y_test = train_test_split(X, y, test_size=0.2, random_state=1234)\n",
    "\n",
    "sc = StandardScaler()\n",
    "X_train = sc.fit_transform(X_train)\n",
    "X_test  = sc.fit_transform(X_test)\n",
    "\n",
    "\n",
    "X_train = torch.from_numpy(X_train.astype(np.float32))\n",
    "X_test = torch.from_numpy(X_test.astype(np.float32))\n",
    "y_train = torch.from_numpy(y_train.astype(np.float32))\n",
    "y_test = torch.from_numpy(y_test.astype(np.float32))\n"
   ]
  },
  {
   "cell_type": "code",
   "execution_count": 48,
   "id": "e7f968a4",
   "metadata": {},
   "outputs": [],
   "source": [
    "y_train = y_train.view(y_train.shape[0],1)\n",
    "y_test  = y_test.view(y_test.shape[0],1)"
   ]
  },
  {
   "cell_type": "code",
   "execution_count": 54,
   "id": "9e788c0e",
   "metadata": {},
   "outputs": [
    {
     "name": "stdout",
     "output_type": "stream",
     "text": [
      "epoch:10, loss: 0.6005\n",
      "epoch:20, loss: 0.4922\n",
      "epoch:30, loss: 0.4222\n",
      "epoch:40, loss: 0.3736\n",
      "epoch:50, loss: 0.3379\n",
      "epoch:60, loss: 0.3105\n",
      "epoch:70, loss: 0.2888\n",
      "epoch:80, loss: 0.2710\n",
      "epoch:90, loss: 0.2563\n",
      "epoch:100, loss: 0.2437\n"
     ]
    }
   ],
   "source": [
    "class LogisticRegression(nn.Module):\n",
    "    def __init__(self, n_input_features):\n",
    "        super(LogisticRegression, self).__init__()\n",
    "        self.linear = nn.Linear(n_input_features, 1)\n",
    "    \n",
    "    def forward(self, x):\n",
    "        y_pred = torch.sigmoid(self.linear(x))\n",
    "        return y_pred\n",
    "    \n",
    "model     = LogisticRegression(n_features)\n",
    "criterion = nn.BCELoss()\n",
    "learning_rate = 0.01\n",
    "optimizer = torch.optim.SGD(model.parameters(), lr = learning_rate)\n",
    "\n",
    "\n",
    "n_epochs = 100\n",
    "\n",
    "for epoch in range(n_epochs):\n",
    "    y_pred = model(X_train)\n",
    "    loss   = criterion(y_pred, y_train)\n",
    "    loss.backward()\n",
    "    optimizer.step()\n",
    "    optimizer.zero_grad()\n",
    "    if((epoch+1)%10==0):\n",
    "        print(f'epoch:{epoch+1}, loss: {loss:.4f}')\n",
    " \n",
    "\n",
    "\n"
   ]
  },
  {
   "cell_type": "code",
   "execution_count": 55,
   "id": "7caf7852",
   "metadata": {},
   "outputs": [
    {
     "name": "stdout",
     "output_type": "stream",
     "text": [
      "accuracy 0.9298\n"
     ]
    }
   ],
   "source": [
    "with torch.no_grad():\n",
    "    y_pred = model(X_test)\n",
    "    y_predicted_cls = y_pred.round()\n",
    "    acc  = y_predicted_cls.eq(y_test).sum()/float(y_test.shape[0])\n",
    "    print(f'accuracy {acc:.4f}')\n",
    "    "
   ]
  },
  {
   "cell_type": "markdown",
   "id": "4670d182",
   "metadata": {},
   "source": [
    "### Pytorch dataset and data loader "
   ]
  },
  {
   "cell_type": "code",
   "execution_count": 58,
   "id": "cc4dbb2c",
   "metadata": {},
   "outputs": [],
   "source": [
    "import torchvision\n",
    "from torch.utils.data import Dataset, DataLoader\n",
    "import math\n",
    "\n",
    "class WineDataset(Dataset):\n",
    "    def __init__(self):\n",
    "        xy = np.loadtxt('wine.csv', delimiter = \",\", dtype=np.float32, skiprows=1)\n",
    "        self.x = torch.from_numpy(xy[:,1:])\n",
    "        self.y = torch.from_numpy(xy[:,[0]])\n",
    "        self.n_samples = xy.shape[0]\n",
    "    \n",
    "    def __getitem__(self, index):\n",
    "        return self.x[index], self.y[index]\n",
    "    \n",
    "    def __len__(self):\n",
    "        return self.n_samples\n",
    "    \n",
    "dataset = WineDataset()\n",
    "first_data = dataset[0]\n",
    "features, labels = first_data\n",
    "        "
   ]
  },
  {
   "cell_type": "code",
   "execution_count": 59,
   "id": "b71a0ac0",
   "metadata": {},
   "outputs": [
    {
     "name": "stdout",
     "output_type": "stream",
     "text": [
      "tensor([1.4230e+01, 1.7100e+00, 2.4300e+00, 1.5600e+01, 1.2700e+02, 2.8000e+00,\n",
      "        3.0600e+00, 2.8000e-01, 2.2900e+00, 5.6400e+00, 1.0400e+00, 3.9200e+00,\n",
      "        1.0650e+03]) tensor([1.])\n"
     ]
    }
   ],
   "source": [
    "print(features, labels)"
   ]
  },
  {
   "cell_type": "code",
   "execution_count": 60,
   "id": "76cf46f1",
   "metadata": {},
   "outputs": [],
   "source": [
    "dataloader = DataLoader(dataset=dataset, batch_size=4, shuffle=True, num_workers=2)"
   ]
  },
  {
   "cell_type": "code",
   "execution_count": 61,
   "id": "2835ed4a",
   "metadata": {},
   "outputs": [
    {
     "name": "stdout",
     "output_type": "stream",
     "text": [
      "(tensor([1.4230e+01, 1.7100e+00, 2.4300e+00, 1.5600e+01, 1.2700e+02, 2.8000e+00,\n",
      "        3.0600e+00, 2.8000e-01, 2.2900e+00, 5.6400e+00, 1.0400e+00, 3.9200e+00,\n",
      "        1.0650e+03]), tensor([1.]))\n",
      "(tensor([1.4230e+01, 1.7100e+00, 2.4300e+00, 1.5600e+01, 1.2700e+02, 2.8000e+00,\n",
      "        3.0600e+00, 2.8000e-01, 2.2900e+00, 5.6400e+00, 1.0400e+00, 3.9200e+00,\n",
      "        1.0650e+03]), tensor([1.]))\n",
      "(tensor([1.4230e+01, 1.7100e+00, 2.4300e+00, 1.5600e+01, 1.2700e+02, 2.8000e+00,\n",
      "        3.0600e+00, 2.8000e-01, 2.2900e+00, 5.6400e+00, 1.0400e+00, 3.9200e+00,\n",
      "        1.0650e+03]), tensor([1.]))\n",
      "(tensor([1.4230e+01, 1.7100e+00, 2.4300e+00, 1.5600e+01, 1.2700e+02, 2.8000e+00,\n",
      "        3.0600e+00, 2.8000e-01, 2.2900e+00, 5.6400e+00, 1.0400e+00, 3.9200e+00,\n",
      "        1.0650e+03]), tensor([1.]))\n"
     ]
    }
   ],
   "source": [
    "for i in range(4):\n",
    "    print(dataset[0])"
   ]
  },
  {
   "cell_type": "code",
   "execution_count": 62,
   "id": "567c5d1b",
   "metadata": {},
   "outputs": [
    {
     "name": "stdout",
     "output_type": "stream",
     "text": [
      "tensor([[1.3880e+01, 1.8900e+00, 2.5900e+00, 1.5000e+01, 1.0100e+02, 3.2500e+00,\n",
      "         3.5600e+00, 1.7000e-01, 1.7000e+00, 5.4300e+00, 8.8000e-01, 3.5600e+00,\n",
      "         1.0950e+03],\n",
      "        [1.2250e+01, 3.8800e+00, 2.2000e+00, 1.8500e+01, 1.1200e+02, 1.3800e+00,\n",
      "         7.8000e-01, 2.9000e-01, 1.1400e+00, 8.2100e+00, 6.5000e-01, 2.0000e+00,\n",
      "         8.5500e+02],\n",
      "        [1.2220e+01, 1.2900e+00, 1.9400e+00, 1.9000e+01, 9.2000e+01, 2.3600e+00,\n",
      "         2.0400e+00, 3.9000e-01, 2.0800e+00, 2.7000e+00, 8.6000e-01, 3.0200e+00,\n",
      "         3.1200e+02],\n",
      "        [1.3830e+01, 1.6500e+00, 2.6000e+00, 1.7200e+01, 9.4000e+01, 2.4500e+00,\n",
      "         2.9900e+00, 2.2000e-01, 2.2900e+00, 5.6000e+00, 1.2400e+00, 3.3700e+00,\n",
      "         1.2650e+03]]) tensor([[1.],\n",
      "        [3.],\n",
      "        [2.],\n",
      "        [1.]])\n"
     ]
    }
   ],
   "source": [
    "dataiter         = iter(dataloader)\n",
    "data             = dataiter.next()\n",
    "features, labels = data\n",
    "print(features, labels)"
   ]
  },
  {
   "cell_type": "code",
   "execution_count": 63,
   "id": "f7421934",
   "metadata": {},
   "outputs": [
    {
     "name": "stdout",
     "output_type": "stream",
     "text": [
      "178 45\n"
     ]
    }
   ],
   "source": [
    "num_epochs = 2\n",
    "total_samples = len(dataset)\n",
    "n_iterations = math.ceil(total_samples/4)\n",
    "\n",
    "print(total_samples, n_iterations)\n"
   ]
  },
  {
   "cell_type": "code",
   "execution_count": 64,
   "id": "0abd960b",
   "metadata": {},
   "outputs": [
    {
     "name": "stdout",
     "output_type": "stream",
     "text": [
      "epoch 1/2, step 5/45 inputs torch.Size([4, 13])\n",
      "epoch 1/2, step 10/45 inputs torch.Size([4, 13])\n",
      "epoch 1/2, step 15/45 inputs torch.Size([4, 13])\n",
      "epoch 1/2, step 20/45 inputs torch.Size([4, 13])\n",
      "epoch 1/2, step 25/45 inputs torch.Size([4, 13])\n",
      "epoch 1/2, step 30/45 inputs torch.Size([4, 13])\n",
      "epoch 1/2, step 35/45 inputs torch.Size([4, 13])\n",
      "epoch 1/2, step 40/45 inputs torch.Size([4, 13])\n",
      "epoch 1/2, step 45/45 inputs torch.Size([2, 13])\n",
      "epoch 2/2, step 5/45 inputs torch.Size([4, 13])\n",
      "epoch 2/2, step 10/45 inputs torch.Size([4, 13])\n",
      "epoch 2/2, step 15/45 inputs torch.Size([4, 13])\n",
      "epoch 2/2, step 20/45 inputs torch.Size([4, 13])\n",
      "epoch 2/2, step 25/45 inputs torch.Size([4, 13])\n",
      "epoch 2/2, step 30/45 inputs torch.Size([4, 13])\n",
      "epoch 2/2, step 35/45 inputs torch.Size([4, 13])\n",
      "epoch 2/2, step 40/45 inputs torch.Size([4, 13])\n",
      "epoch 2/2, step 45/45 inputs torch.Size([2, 13])\n"
     ]
    }
   ],
   "source": [
    "for epoch in range(num_epochs):\n",
    "    for i, (inputs, labels) in enumerate(dataloader):\n",
    "        if((i+1)%5==0):\n",
    "            print(f'epoch {epoch+1}/{num_epochs}, step {i+1}/{n_iterations} inputs {inputs.shape}')\n",
    "    "
   ]
  },
  {
   "cell_type": "code",
   "execution_count": 3,
   "id": "d0548f77",
   "metadata": {},
   "outputs": [
    {
     "name": "stdout",
     "output_type": "stream",
     "text": [
      "Downloading http://yann.lecun.com/exdb/mnist/train-images-idx3-ubyte.gz\n",
      "Downloading http://yann.lecun.com/exdb/mnist/train-images-idx3-ubyte.gz to ./data/MNIST/raw/train-images-idx3-ubyte.gz\n"
     ]
    },
    {
     "data": {
      "application/vnd.jupyter.widget-view+json": {
       "model_id": "329132fe40f344e9a6cb2ae4ad0510bb",
       "version_major": 2,
       "version_minor": 0
      },
      "text/plain": [
       "  0%|          | 0/9912422 [00:00<?, ?it/s]"
      ]
     },
     "metadata": {},
     "output_type": "display_data"
    },
    {
     "name": "stdout",
     "output_type": "stream",
     "text": [
      "Extracting ./data/MNIST/raw/train-images-idx3-ubyte.gz to ./data/MNIST/raw\n",
      "\n",
      "Downloading http://yann.lecun.com/exdb/mnist/train-labels-idx1-ubyte.gz\n",
      "Downloading http://yann.lecun.com/exdb/mnist/train-labels-idx1-ubyte.gz to ./data/MNIST/raw/train-labels-idx1-ubyte.gz\n"
     ]
    },
    {
     "data": {
      "application/vnd.jupyter.widget-view+json": {
       "model_id": "ab60e5da7aaa48bfbe1d83460fb43e4c",
       "version_major": 2,
       "version_minor": 0
      },
      "text/plain": [
       "  0%|          | 0/28881 [00:00<?, ?it/s]"
      ]
     },
     "metadata": {},
     "output_type": "display_data"
    },
    {
     "name": "stdout",
     "output_type": "stream",
     "text": [
      "Extracting ./data/MNIST/raw/train-labels-idx1-ubyte.gz to ./data/MNIST/raw\n",
      "\n",
      "Downloading http://yann.lecun.com/exdb/mnist/t10k-images-idx3-ubyte.gz\n",
      "Downloading http://yann.lecun.com/exdb/mnist/t10k-images-idx3-ubyte.gz to ./data/MNIST/raw/t10k-images-idx3-ubyte.gz\n"
     ]
    },
    {
     "data": {
      "application/vnd.jupyter.widget-view+json": {
       "model_id": "abbc1e7737014b8386c4bd3fa585d92e",
       "version_major": 2,
       "version_minor": 0
      },
      "text/plain": [
       "  0%|          | 0/1648877 [00:00<?, ?it/s]"
      ]
     },
     "metadata": {},
     "output_type": "display_data"
    },
    {
     "name": "stdout",
     "output_type": "stream",
     "text": [
      "Extracting ./data/MNIST/raw/t10k-images-idx3-ubyte.gz to ./data/MNIST/raw\n",
      "\n",
      "Downloading http://yann.lecun.com/exdb/mnist/t10k-labels-idx1-ubyte.gz\n",
      "Downloading http://yann.lecun.com/exdb/mnist/t10k-labels-idx1-ubyte.gz to ./data/MNIST/raw/t10k-labels-idx1-ubyte.gz\n"
     ]
    },
    {
     "data": {
      "application/vnd.jupyter.widget-view+json": {
       "model_id": "89a3b13e1c1843e0b00fabf5d1641d50",
       "version_major": 2,
       "version_minor": 0
      },
      "text/plain": [
       "  0%|          | 0/4542 [00:00<?, ?it/s]"
      ]
     },
     "metadata": {},
     "output_type": "display_data"
    },
    {
     "name": "stdout",
     "output_type": "stream",
     "text": [
      "Extracting ./data/MNIST/raw/t10k-labels-idx1-ubyte.gz to ./data/MNIST/raw\n",
      "\n"
     ]
    },
    {
     "name": "stderr",
     "output_type": "stream",
     "text": [
      "/home/anirudh/ml/my_env/lib/python3.6/site-packages/torchvision/datasets/mnist.py:498: UserWarning: The given NumPy array is not writeable, and PyTorch does not support non-writeable tensors. This means you can write to the underlying (supposedly non-writeable) NumPy array using the tensor. You may want to copy the array to protect its data or make it writeable before converting it to a tensor. This type of warning will be suppressed for the rest of this program. (Triggered internally at  ../torch/csrc/utils/tensor_numpy.cpp:180.)\n",
      "  return torch.from_numpy(parsed.astype(m[2], copy=False)).view(*s)\n"
     ]
    }
   ],
   "source": [
    "import torch\n",
    "import torchvision\n",
    "\n",
    "dataset = torchvision.datasets.MNIST(root = \"./data\", transform=torchvision.transforms.ToTensor(), download=True)"
   ]
  },
  {
   "cell_type": "code",
   "execution_count": 12,
   "id": "cd951a3f",
   "metadata": {},
   "outputs": [
    {
     "name": "stdout",
     "output_type": "stream",
     "text": [
      "<class 'numpy.ndarray'> <class 'numpy.ndarray'>\n",
      "[1.423e+01 1.710e+00 2.430e+00 1.560e+01 1.270e+02 2.800e+00 3.060e+00\n",
      " 2.800e-01 2.290e+00 5.640e+00 1.040e+00 3.920e+00 1.065e+03]\n",
      "<class 'torch.Tensor'> <class 'torch.Tensor'>\n",
      "tensor([2.8460e+01, 3.4200e+00, 4.8600e+00, 3.1200e+01, 2.5400e+02, 5.6000e+00,\n",
      "        6.1200e+00, 5.6000e-01, 4.5800e+00, 1.1280e+01, 2.0800e+00, 7.8400e+00,\n",
      "        2.1300e+03])\n"
     ]
    }
   ],
   "source": [
    "import torchvision\n",
    "from torch.utils.data import Dataset, DataLoader\n",
    "import math\n",
    "import numpy as np\n",
    "\n",
    "class WineDataset(Dataset):\n",
    "    def __init__(self, transform=None):\n",
    "        xy = np.loadtxt('wine.csv', delimiter = \",\", dtype=np.float32, skiprows=1)\n",
    "        self.x = xy[:,1:]\n",
    "        self.y = xy[:,[0]]\n",
    "        self.n_samples = xy.shape[0]\n",
    "        \n",
    "        self.transform = transform\n",
    "    \n",
    "    def __getitem__(self, index):\n",
    "        sample = self.x[index], self.y[index]\n",
    "        \n",
    "        if(self.transform):\n",
    "            sample = self.transform(sample)\n",
    "        return sample\n",
    "    \n",
    "    def __len__(self):\n",
    "        return self.n_samples\n",
    "    \n",
    "\n",
    "class ToTensor:\n",
    "    def __call__(self, sample):\n",
    "        inputs, targets = sample\n",
    "        return torch.from_numpy(inputs), torch.from_numpy(targets)\n",
    "    \n",
    "\n",
    "class MulTransform:\n",
    "    def __init__(self, factor):\n",
    "        self.factor = factor\n",
    "    \n",
    "    def __call__(self, sample):\n",
    "        inputs, target = sample\n",
    "        inputs *= self.factor\n",
    "        return inputs, target\n",
    "    \n",
    "    \n",
    "    \n",
    "dataset = WineDataset(transform = None)\n",
    "first_data = dataset[0]\n",
    "features, labels = first_data\n",
    "print(type(features), type(labels))\n",
    "print(features)\n",
    "\n",
    "composed = torchvision.transforms.Compose([ToTensor(), MulTransform(2)])\n",
    "dataset  = WineDataset(transform = composed)\n",
    "first_data = dataset[0]\n",
    "features, labels = first_data\n",
    "print(type(features), type(labels))\n",
    "print(features)\n",
    "        "
   ]
  },
  {
   "cell_type": "markdown",
   "id": "734e92c3",
   "metadata": {},
   "source": [
    "### Softmax and Crossentropy"
   ]
  },
  {
   "cell_type": "code",
   "execution_count": 14,
   "id": "3e60b08f",
   "metadata": {},
   "outputs": [
    {
     "name": "stdout",
     "output_type": "stream",
     "text": [
      "[0.65900114 0.24243297 0.09856589]\n"
     ]
    }
   ],
   "source": [
    "def softmax(x):\n",
    "    return np.exp(x)/np.sum(np.exp(x), axis=0)\n",
    "x = np.array([2.0, 1.0, 0.1])\n",
    "print(softmax(x))"
   ]
  },
  {
   "cell_type": "raw",
   "id": "01678bb9",
   "metadata": {},
   "source": [
    "x = torch.tensor([2.0, 1.0, 0.1])\n",
    "print(torch.softmax(x , dim=0))"
   ]
  },
  {
   "cell_type": "code",
   "execution_count": 19,
   "id": "8fd11bb7",
   "metadata": {},
   "outputs": [
    {
     "name": "stdout",
     "output_type": "stream",
     "text": [
      "loss1 numpy 0.3567\n",
      "loss2 numpy 2.3026\n"
     ]
    }
   ],
   "source": [
    "def cross_entropy(actual, predicted):\n",
    "    return -np.sum(actual*np.log(predicted))\n",
    "\n",
    "Y = np.array([1,0,0])\n",
    "y_pred_good = np.array([0.7, 0.2, 0.1])\n",
    "y_pred_bad  = np.array([0.1, 0.3, 0.6])\n",
    "\n",
    "l1 = cross_entropy(Y, y_pred_good)\n",
    "l2 = cross_entropy(Y, y_pred_bad)\n",
    "\n",
    "print(f'loss1 numpy {l1:.4f}')\n",
    "print(f'loss2 numpy {l2:.4f}')"
   ]
  },
  {
   "cell_type": "code",
   "execution_count": 22,
   "id": "df840a92",
   "metadata": {},
   "outputs": [
    {
     "name": "stdout",
     "output_type": "stream",
     "text": [
      "0.4170299470424652\n",
      "1.840616226196289\n",
      "tensor([0]) tensor([1])\n"
     ]
    }
   ],
   "source": [
    "import torch.nn as nn\n",
    "\n",
    "loss = nn.CrossEntropyLoss()\n",
    "Y    = torch.tensor([0]) #class name\n",
    "Y_pred_good = torch.tensor([[2.0, 1.0, 0.1]]) #no softmax\n",
    "Y_pred_bad = torch.tensor([[0.5, 2.0, 0.3]])  #no softmax\n",
    "\n",
    "l1 = loss(Y_pred_good, Y)\n",
    "l2 = loss(Y_pred_bad,  Y)\n",
    "\n",
    "print(l1.item())\n",
    "print(l2.item())\n",
    "_, predictions1 = torch.max(Y_pred_good, 1)\n",
    "_, predictions2 = torch.max(Y_pred_bad, 1)\n",
    "\n",
    "print( predictions1, predictions2)"
   ]
  },
  {
   "cell_type": "markdown",
   "id": "457a6aa1",
   "metadata": {},
   "source": [
    "### Feedforward nn"
   ]
  },
  {
   "cell_type": "code",
   "execution_count": 1,
   "id": "df8d865f",
   "metadata": {},
   "outputs": [
    {
     "name": "stderr",
     "output_type": "stream",
     "text": [
      "/home/anirudh/ml/my_env/lib/python3.6/site-packages/torchvision/datasets/mnist.py:498: UserWarning: The given NumPy array is not writeable, and PyTorch does not support non-writeable tensors. This means you can write to the underlying (supposedly non-writeable) NumPy array using the tensor. You may want to copy the array to protect its data or make it writeable before converting it to a tensor. This type of warning will be suppressed for the rest of this program. (Triggered internally at  ../torch/csrc/utils/tensor_numpy.cpp:180.)\n",
      "  return torch.from_numpy(parsed.astype(m[2], copy=False)).view(*s)\n"
     ]
    },
    {
     "name": "stdout",
     "output_type": "stream",
     "text": [
      "torch.Size([100, 1, 28, 28]) torch.Size([100])\n"
     ]
    }
   ],
   "source": [
    "import torch\n",
    "import torch.nn as nn\n",
    "import torchvision\n",
    "import torchvision.transforms as transforms\n",
    "import matplotlib.pyplot as plt\n",
    "\n",
    "\n",
    "\n",
    "device = torch.device('cuda' if torch.cuda.is_available() else 'cpu')\n",
    "input_size = 28*28\n",
    "hidden_size = 100\n",
    "num_classes = 10\n",
    "num_epochs  = 2\n",
    "batch_size  = 100\n",
    "learning_rate = 0.001\n",
    "\n",
    "train_dataset = torchvision.datasets.MNIST(root=\"./data\", train=True, transform = transforms.ToTensor(), download=True)\n",
    "\n",
    "test_dataset = torchvision.datasets.MNIST(root=\"./data\", train=False, transform = transforms.ToTensor())\n",
    "\n",
    "\n",
    "train_loader = torch.utils.data.DataLoader(dataset=train_dataset, batch_size = batch_size, shuffle=True)\n",
    "test_loader = torch.utils.data.DataLoader(dataset=test_dataset, batch_size = batch_size, shuffle=False)\n",
    "\n",
    "examples = iter(train_loader)\n",
    "samples, labels = examples.next()\n",
    "print(samples.shape, labels.shape)\n",
    "\n"
   ]
  },
  {
   "cell_type": "code",
   "execution_count": 7,
   "id": "2980d1e5",
   "metadata": {},
   "outputs": [
    {
     "name": "stdout",
     "output_type": "stream",
     "text": [
      "epoch 1/2, step 100/600, loss = 0.3994\n",
      "epoch 1/2, step 200/600, loss = 0.2980\n",
      "epoch 1/2, step 300/600, loss = 0.2957\n",
      "epoch 1/2, step 400/600, loss = 0.2550\n",
      "epoch 1/2, step 500/600, loss = 0.1520\n",
      "epoch 1/2, step 600/600, loss = 0.2070\n",
      "epoch 2/2, step 100/600, loss = 0.1090\n",
      "epoch 2/2, step 200/600, loss = 0.2143\n",
      "epoch 2/2, step 300/600, loss = 0.1928\n",
      "epoch 2/2, step 400/600, loss = 0.2059\n",
      "epoch 2/2, step 500/600, loss = 0.1619\n",
      "epoch 2/2, step 600/600, loss = 0.0602\n",
      "accuracy = 95.37\n"
     ]
    }
   ],
   "source": [
    "# for i in range(6):\n",
    "#     plt.subplot(2,3, i+1)\n",
    "#     plt.imshow(samples[i][0], cmap='gray')\n",
    "# # plt.show()\n",
    "\n",
    "\n",
    "class NeuralNet(nn.Module):\n",
    "    def __init__(self, input_size, hidden_size, num_classes):\n",
    "        super(NeuralNet, self).__init__()\n",
    "        self.l1 = nn.Linear(input_size, hidden_size)\n",
    "        self.relu = nn.ReLU()\n",
    "        self.l2 = nn.Linear(hidden_size, num_classes)\n",
    "        \n",
    "    def forward(self, x):\n",
    "        out = self.l1(x)\n",
    "        out = self.relu(out)\n",
    "        out = self.relu(out)\n",
    "        out = self.l2(out)\n",
    "        return out\n",
    "    \n",
    "model = NeuralNet(input_size, hidden_size, num_classes)\n",
    "criterion = nn.CrossEntropyLoss()\n",
    "optimizer = torch.optim.Adam(model.parameters(), lr=learning_rate)\n",
    "\n",
    "n_total_steps = len(train_loader)\n",
    "\n",
    "for epoch in range(num_epochs):\n",
    "    for i, (images, labels) in enumerate(train_loader):\n",
    "        images = images.reshape(-1, 28*28).to(device)\n",
    "        labels = labels.to(device)\n",
    "        \n",
    "        outputs = model(images)\n",
    "        loss    = criterion(outputs, labels)\n",
    "        \n",
    "        optimizer.zero_grad()\n",
    "        loss.backward()\n",
    "        optimizer.step()\n",
    "        \n",
    "        if((i+1)%100 == 0):\n",
    "            print(f'epoch {epoch+1}/{num_epochs}, step {i+1}/{n_total_steps}, loss = {loss.item():.4f}')\n",
    "\n",
    "\n",
    "with torch.no_grad():\n",
    "    n_correct = 0\n",
    "    n_samples = 0\n",
    "    for images, labels in test_loader:\n",
    "        images = images.reshape(-1, 28*28).to(device)\n",
    "        labels = labels.to(device)\n",
    "        outputs = model(images)\n",
    "        \n",
    "        #value, index\n",
    "        _, predictions = torch.max(outputs, 1)\n",
    "        n_samples +=labels.shape[0]\n",
    "        n_correct += (predictions == labels).sum().item()\n",
    "    acc = 100.0* n_correct /n_samples\n",
    "    print(f'accuracy = {acc}')\n",
    "    \n",
    "        "
   ]
  },
  {
   "cell_type": "markdown",
   "id": "9ad57597",
   "metadata": {},
   "source": [
    "### CNN"
   ]
  },
  {
   "cell_type": "code",
   "execution_count": 6,
   "id": "1237bcf5",
   "metadata": {},
   "outputs": [
    {
     "name": "stdout",
     "output_type": "stream",
     "text": [
      "Files already downloaded and verified\n",
      "Files already downloaded and verified\n"
     ]
    },
    {
     "data": {
      "image/png": "[encoded data removed]",
      "text/plain": [
       "<Figure size 432x288 with 1 Axes>"
      ]
     },
     "metadata": {
      "needs_background": "light"
     },
     "output_type": "display_data"
    },
    {
     "name": "stdout",
     "output_type": "stream",
     "text": [
      "Epoch [1/5], Step [2000/12500], Loss: 2.2839\n",
      "Epoch [1/5], Step [4000/12500], Loss: 2.2773\n",
      "Epoch [1/5], Step [6000/12500], Loss: 2.2827\n",
      "Epoch [1/5], Step [8000/12500], Loss: 2.2593\n",
      "Epoch [1/5], Step [10000/12500], Loss: 2.0608\n",
      "Epoch [1/5], Step [12000/12500], Loss: 1.7202\n",
      "Epoch [2/5], Step [2000/12500], Loss: 2.5459\n",
      "Epoch [2/5], Step [4000/12500], Loss: 1.6835\n",
      "Epoch [2/5], Step [6000/12500], Loss: 1.5357\n",
      "Epoch [2/5], Step [8000/12500], Loss: 2.2192\n",
      "Epoch [2/5], Step [10000/12500], Loss: 1.9737\n",
      "Epoch [2/5], Step [12000/12500], Loss: 1.5188\n",
      "Epoch [3/5], Step [2000/12500], Loss: 1.8820\n",
      "Epoch [3/5], Step [4000/12500], Loss: 1.0353\n",
      "Epoch [3/5], Step [6000/12500], Loss: 1.9761\n",
      "Epoch [3/5], Step [8000/12500], Loss: 1.2276\n",
      "Epoch [3/5], Step [10000/12500], Loss: 1.2666\n",
      "Epoch [3/5], Step [12000/12500], Loss: 1.5842\n",
      "Epoch [4/5], Step [2000/12500], Loss: 1.2638\n",
      "Epoch [4/5], Step [4000/12500], Loss: 1.0517\n",
      "Epoch [4/5], Step [6000/12500], Loss: 1.4958\n",
      "Epoch [4/5], Step [8000/12500], Loss: 1.8580\n",
      "Epoch [4/5], Step [10000/12500], Loss: 1.4426\n",
      "Epoch [4/5], Step [12000/12500], Loss: 1.9334\n",
      "Epoch [5/5], Step [2000/12500], Loss: 1.3564\n",
      "Epoch [5/5], Step [4000/12500], Loss: 1.3364\n",
      "Epoch [5/5], Step [6000/12500], Loss: 1.2836\n",
      "Epoch [5/5], Step [8000/12500], Loss: 1.3799\n",
      "Epoch [5/5], Step [10000/12500], Loss: 2.2120\n",
      "Epoch [5/5], Step [12000/12500], Loss: 1.5445\n",
      "Finished Training\n",
      "Accuracy of the network: 49.48 %\n",
      "Accuracy of plane: 59.7 %\n",
      "Accuracy of car: 70.5 %\n",
      "Accuracy of bird: 29.0 %\n",
      "Accuracy of cat: 32.2 %\n",
      "Accuracy of deer: 36.7 %\n",
      "Accuracy of dog: 60.7 %\n",
      "Accuracy of frog: 61.5 %\n",
      "Accuracy of horse: 39.9 %\n",
      "Accuracy of ship: 55.8 %\n",
      "Accuracy of truck: 48.8 %\n"
     ]
    }
   ],
   "source": [
    "import torch\n",
    "import torch.nn as nn\n",
    "import torch.nn.functional as F\n",
    "import torchvision\n",
    "import torchvision.transforms as transforms\n",
    "import matplotlib.pyplot as plt\n",
    "import numpy as np\n",
    "\n",
    "# Device configuration\n",
    "device = torch.device('cuda' if torch.cuda.is_available() else 'cpu')\n",
    "\n",
    "# Hyper-parameters \n",
    "num_epochs = 5\n",
    "batch_size = 4\n",
    "learning_rate = 0.001\n",
    "\n",
    "# dataset has PILImage images of range [0, 1]. \n",
    "# We transform them to Tensors of normalized range [-1, 1]\n",
    "transform = transforms.Compose(\n",
    "    [transforms.ToTensor(),\n",
    "     transforms.Normalize((0.5, 0.5, 0.5), (0.5, 0.5, 0.5))])\n",
    "\n",
    "# CIFAR10: 60000 32x32 color images in 10 classes, with 6000 images per class\n",
    "train_dataset = torchvision.datasets.CIFAR10(root='./data', train=True,\n",
    "                                        download=True, transform=transform)\n",
    "\n",
    "test_dataset = torchvision.datasets.CIFAR10(root='./data', train=False,\n",
    "                                       download=True, transform=transform)\n",
    "\n",
    "train_loader = torch.utils.data.DataLoader(train_dataset, batch_size=batch_size,\n",
    "                                          shuffle=True)\n",
    "\n",
    "test_loader = torch.utils.data.DataLoader(test_dataset, batch_size=batch_size,\n",
    "                                         shuffle=False)\n",
    "\n",
    "classes = ('plane', 'car', 'bird', 'cat',\n",
    "           'deer', 'dog', 'frog', 'horse', 'ship', 'truck')\n",
    "\n",
    "def imshow(img):\n",
    "    img = img / 2 + 0.5  # unnormalize\n",
    "    npimg = img.numpy()\n",
    "    plt.imshow(np.transpose(npimg, (1, 2, 0)))\n",
    "    plt.show()\n",
    "\n",
    "\n",
    "# get some random training images\n",
    "dataiter = iter(train_loader)\n",
    "images, labels = dataiter.next()\n",
    "\n",
    "# show images\n",
    "imshow(torchvision.utils.make_grid(images))\n",
    "\n",
    "class ConvNet(nn.Module):\n",
    "    def __init__(self):\n",
    "        super(ConvNet, self).__init__()\n",
    "        self.conv1 = nn.Conv2d(3, 6, 5)\n",
    "        self.pool = nn.MaxPool2d(2, 2)\n",
    "        self.conv2 = nn.Conv2d(6, 16, 5)\n",
    "        self.fc1 = nn.Linear(16 * 5 * 5, 120)\n",
    "        self.fc2 = nn.Linear(120, 84)\n",
    "        self.fc3 = nn.Linear(84, 10)\n",
    "\n",
    "    def forward(self, x):\n",
    "        # -> n, 3, 32, 32\n",
    "        x = self.pool(F.relu(self.conv1(x)))  # -> n, 6, 14, 14\n",
    "        x = self.pool(F.relu(self.conv2(x)))  # -> n, 16, 5, 5\n",
    "        x = x.view(-1, 16 * 5 * 5)            # -> n, 400\n",
    "        x = F.relu(self.fc1(x))               # -> n, 120\n",
    "        x = F.relu(self.fc2(x))               # -> n, 84\n",
    "        x = self.fc3(x)                       # -> n, 10\n",
    "        return x\n",
    "\n",
    "\n",
    "model = ConvNet().to(device)\n",
    "\n",
    "criterion = nn.CrossEntropyLoss()\n",
    "optimizer = torch.optim.SGD(model.parameters(), lr=learning_rate)\n",
    "\n",
    "n_total_steps = len(train_loader)\n",
    "for epoch in range(num_epochs):\n",
    "    for i, (images, labels) in enumerate(train_loader):\n",
    "        # origin shape: [4, 3, 32, 32] = 4, 3, 1024\n",
    "        # input_layer: 3 input channels, 6 output channels, 5 kernel size\n",
    "        images = images.to(device)\n",
    "        labels = labels.to(device)\n",
    "\n",
    "        # Forward pass\n",
    "        outputs = model(images)\n",
    "        loss = criterion(outputs, labels)\n",
    "\n",
    "        # Backward and optimize\n",
    "        optimizer.zero_grad()\n",
    "        loss.backward()\n",
    "        optimizer.step()\n",
    "\n",
    "        if (i+1) % 2000 == 0:\n",
    "            print (f'Epoch [{epoch+1}/{num_epochs}], Step [{i+1}/{n_total_steps}], Loss: {loss.item():.4f}')\n",
    "\n",
    "print('Finished Training')\n",
    "PATH = './cnn.pth'\n",
    "torch.save(model.state_dict(), PATH)\n",
    "\n",
    "with torch.no_grad():\n",
    "    n_correct = 0\n",
    "    n_samples = 0\n",
    "    n_class_correct = [0 for i in range(10)]\n",
    "    n_class_samples = [0 for i in range(10)]\n",
    "    for images, labels in test_loader:\n",
    "        images = images.to(device)\n",
    "        labels = labels.to(device)\n",
    "        outputs = model(images)\n",
    "        # max returns (value ,index)\n",
    "        _, predicted = torch.max(outputs, 1)\n",
    "        n_samples += labels.size(0)\n",
    "        n_correct += (predicted == labels).sum().item()\n",
    "        \n",
    "        for i in range(batch_size):\n",
    "            label = labels[i]\n",
    "            pred = predicted[i]\n",
    "            if (label == pred):\n",
    "                n_class_correct[label] += 1\n",
    "            n_class_samples[label] += 1\n",
    "\n",
    "    acc = 100.0 * n_correct / n_samples\n",
    "    print(f'Accuracy of the network: {acc} %')\n",
    "\n",
    "    for i in range(10):\n",
    "        acc = 100.0 * n_class_correct[i] / n_class_samples[i]\n",
    "        print(f'Accuracy of {classes[i]}: {acc} %')\n"
   ]
  },
  {
   "cell_type": "markdown",
   "id": "81329afb",
   "metadata": {},
   "source": [
    "### Transfer learning"
   ]
  },
  {
   "cell_type": "code",
   "execution_count": null,
   "id": "9581b486",
   "metadata": {},
   "outputs": [],
   "source": [
    "import torch\n",
    "import torch.nn as nn\n",
    "import torch.optim as optim\n",
    "from torch.optim import lr_scheduler\n",
    "import numpy as np\n",
    "import torchvision\n",
    "from torchvision import datasets, models, transforms\n",
    "import matplotlib.pyplot as plt\n",
    "import time\n",
    "import os\n",
    "import copy\n",
    "\n",
    "mean = np.array([0.5, 0.5, 0.5])\n",
    "std = np.array([0.25, 0.25, 0.25])\n",
    "\n",
    "data_transforms = {\n",
    "    'train': transforms.Compose([\n",
    "        transforms.RandomResizedCrop(224),\n",
    "        transforms.RandomHorizontalFlip(),\n",
    "        transforms.ToTensor(),\n",
    "        transforms.Normalize(mean, std)\n",
    "    ]),\n",
    "    'val': transforms.Compose([\n",
    "        transforms.Resize(256),\n",
    "        transforms.CenterCrop(224),\n",
    "        transforms.ToTensor(),\n",
    "        transforms.Normalize(mean, std)\n",
    "    ]),\n",
    "}\n",
    "\n",
    "data_dir = 'data/hymenoptera_data'\n",
    "image_datasets = {x: datasets.ImageFolder(os.path.join(data_dir, x),\n",
    "                                          data_transforms[x])\n",
    "                  for x in ['train', 'val']}\n",
    "dataloaders = {x: torch.utils.data.DataLoader(image_datasets[x], batch_size=4,\n",
    "                                             shuffle=True, num_workers=0)\n",
    "              for x in ['train', 'val']}\n",
    "dataset_sizes = {x: len(image_datasets[x]) for x in ['train', 'val']}\n",
    "class_names = image_datasets['train'].classes\n",
    "\n",
    "device = torch.device(\"cuda:0\" if torch.cuda.is_available() else \"cpu\")\n",
    "print(class_names)\n",
    "\n",
    "\n",
    "def imshow(inp, title):\n",
    "    \"\"\"Imshow for Tensor.\"\"\"\n",
    "    inp = inp.numpy().transpose((1, 2, 0))\n",
    "    inp = std * inp + mean\n",
    "    inp = np.clip(inp, 0, 1)\n",
    "    plt.imshow(inp)\n",
    "    plt.title(title)\n",
    "    plt.show()\n",
    "\n",
    "\n",
    "# Get a batch of training data\n",
    "inputs, classes = next(iter(dataloaders['train']))\n",
    "\n",
    "# Make a grid from batch\n",
    "out = torchvision.utils.make_grid(inputs)\n",
    "\n",
    "imshow(out, title=[class_names[x] for x in classes])\n",
    "\n",
    "def train_model(model, criterion, optimizer, scheduler, num_epochs=25):\n",
    "    since = time.time()\n",
    "\n",
    "    best_model_wts = copy.deepcopy(model.state_dict())\n",
    "    best_acc = 0.0\n",
    "\n",
    "    for epoch in range(num_epochs):\n",
    "        print('Epoch {}/{}'.format(epoch, num_epochs - 1))\n",
    "        print('-' * 10)\n",
    "\n",
    "        # Each epoch has a training and validation phase\n",
    "        for phase in ['train', 'val']:\n",
    "            if phase == 'train':\n",
    "                model.train()  # Set model to training mode\n",
    "            else:\n",
    "                model.eval()   # Set model to evaluate mode\n",
    "\n",
    "            running_loss = 0.0\n",
    "            running_corrects = 0\n",
    "\n",
    "            # Iterate over data.\n",
    "            for inputs, labels in dataloaders[phase]:\n",
    "                inputs = inputs.to(device)\n",
    "                labels = labels.to(device)\n",
    "\n",
    "                # forward\n",
    "                # track history if only in train\n",
    "                with torch.set_grad_enabled(phase == 'train'):\n",
    "                    outputs = model(inputs)\n",
    "                    _, preds = torch.max(outputs, 1)\n",
    "                    loss = criterion(outputs, labels)\n",
    "\n",
    "                    # backward + optimize only if in training phase\n",
    "                    if phase == 'train':\n",
    "                        optimizer.zero_grad()\n",
    "                        loss.backward()\n",
    "                        optimizer.step()\n",
    "\n",
    "                # statistics\n",
    "                running_loss += loss.item() * inputs.size(0)\n",
    "                running_corrects += torch.sum(preds == labels.data)\n",
    "\n",
    "            if phase == 'train':\n",
    "                scheduler.step()\n",
    "\n",
    "            epoch_loss = running_loss / dataset_sizes[phase]\n",
    "            epoch_acc = running_corrects.double() / dataset_sizes[phase]\n",
    "\n",
    "            print('{} Loss: {:.4f} Acc: {:.4f}'.format(\n",
    "                phase, epoch_loss, epoch_acc))\n",
    "\n",
    "            # deep copy the model\n",
    "            if phase == 'val' and epoch_acc > best_acc:\n",
    "                best_acc = epoch_acc\n",
    "                best_model_wts = copy.deepcopy(model.state_dict())\n",
    "\n",
    "        print()\n",
    "\n",
    "    time_elapsed = time.time() - since\n",
    "    print('Training complete in {:.0f}m {:.0f}s'.format(\n",
    "        time_elapsed // 60, time_elapsed % 60))\n",
    "    print('Best val Acc: {:4f}'.format(best_acc))\n",
    "\n",
    "    # load best model weights\n",
    "    model.load_state_dict(best_model_wts)\n",
    "    return model\n",
    "\n",
    "\n",
    "#### Finetuning the convnet ####\n",
    "# Load a pretrained model and reset final fully connected layer.\n",
    "\n",
    "model = models.resnet18(pretrained=True)\n",
    "num_ftrs = model.fc.in_features\n",
    "# Here the size of each output sample is set to 2.\n",
    "# Alternatively, it can be generalized to nn.Linear(num_ftrs, len(class_names)).\n",
    "model.fc = nn.Linear(num_ftrs, 2)\n",
    "\n",
    "model = model.to(device)\n",
    "\n",
    "criterion = nn.CrossEntropyLoss()\n",
    "\n",
    "# Observe that all parameters are being optimized\n",
    "optimizer = optim.SGD(model.parameters(), lr=0.001)\n",
    "\n",
    "# StepLR Decays the learning rate of each parameter group by gamma every step_size epochs\n",
    "# Decay LR by a factor of 0.1 every 7 epochs\n",
    "# Learning rate scheduling should be applied after optimizer’s update\n",
    "# e.g., you should write your code this way:\n",
    "# for epoch in range(100):\n",
    "#     train(...)\n",
    "#     validate(...)\n",
    "#     scheduler.step()\n",
    "\n",
    "step_lr_scheduler = lr_scheduler.StepLR(optimizer, step_size=7, gamma=0.1)\n",
    "\n",
    "model = train_model(model, criterion, optimizer, step_lr_scheduler, num_epochs=25)\n",
    "\n",
    "\n",
    "#### ConvNet as fixed feature extractor ####\n",
    "# Here, we need to freeze all the network except the final layer.\n",
    "# We need to set requires_grad == False to freeze the parameters so that the gradients are not computed in backward()\n",
    "model_conv = torchvision.models.resnet18(pretrained=True)\n",
    "for param in model_conv.parameters():\n",
    "    param.requires_grad = False\n",
    "\n",
    "# Parameters of newly constructed modules have requires_grad=True by default\n",
    "num_ftrs = model_conv.fc.in_features\n",
    "model_conv.fc = nn.Linear(num_ftrs, 2)\n",
    "\n",
    "model_conv = model_conv.to(device)\n",
    "\n",
    "criterion = nn.CrossEntropyLoss()\n",
    "\n",
    "# Observe that only parameters of final layer are being optimized as\n",
    "# opposed to before.\n",
    "optimizer_conv = optim.SGD(model_conv.fc.parameters(), lr=0.001, momentum=0.9)\n",
    "\n",
    "# Decay LR by a factor of 0.1 every 7 epochs\n",
    "exp_lr_scheduler = lr_scheduler.StepLR(optimizer_conv, step_size=7, gamma=0.1)\n",
    "\n",
    "model_conv = train_model(model_conv, criterion, optimizer_conv,\n",
    "                         exp_lr_scheduler, num_epochs=25)\n"
   ]
  },
  {
   "cell_type": "markdown",
   "id": "6268ec3a",
   "metadata": {},
   "source": [
    "### Tensorboard Tutorial"
   ]
  },
  {
   "cell_type": "code",
   "execution_count": 11,
   "id": "540553d0",
   "metadata": {},
   "outputs": [
    {
     "name": "stdout",
     "output_type": "stream",
     "text": [
      "torch.Size([100, 1, 28, 28]) torch.Size([100])\n",
      "epoch 1/2, step 100/600, loss = 0.3706\n",
      "epoch 1/2, step 200/600, loss = 0.4565\n",
      "epoch 1/2, step 300/600, loss = 0.3055\n",
      "epoch 1/2, step 400/600, loss = 0.3062\n",
      "epoch 1/2, step 500/600, loss = 0.2634\n",
      "epoch 1/2, step 600/600, loss = 0.3206\n",
      "epoch 2/2, step 100/600, loss = 0.2717\n",
      "epoch 2/2, step 200/600, loss = 0.2340\n",
      "epoch 2/2, step 300/600, loss = 0.1896\n",
      "epoch 2/2, step 400/600, loss = 0.1367\n",
      "epoch 2/2, step 500/600, loss = 0.2157\n",
      "epoch 2/2, step 600/600, loss = 0.2251\n",
      "accuracy = 95.48\n"
     ]
    }
   ],
   "source": [
    "import torch\n",
    "import torch.nn as nn\n",
    "import torchvision\n",
    "import torchvision.transforms as transforms\n",
    "import matplotlib.pyplot as plt\n",
    "from torch.utils.tensorboard import SummaryWriter\n",
    "import torch.nn.functional as F\n",
    "import sys\n",
    "\n",
    "\n",
    "writer = SummaryWriter(\"runs/mnist\")\n",
    "\n",
    "device = torch.device('cuda' if torch.cuda.is_available() else 'cpu')\n",
    "input_size = 28*28\n",
    "hidden_size = 100\n",
    "num_classes = 10\n",
    "num_epochs  = 2\n",
    "batch_size  = 100\n",
    "learning_rate = 0.001\n",
    "\n",
    "train_dataset = torchvision.datasets.MNIST(root=\"./data\", train=True, transform = transforms.ToTensor(), download=True)\n",
    "\n",
    "test_dataset = torchvision.datasets.MNIST(root=\"./data\", train=False, transform = transforms.ToTensor())\n",
    "\n",
    "\n",
    "train_loader = torch.utils.data.DataLoader(dataset=train_dataset, batch_size = batch_size, shuffle=True)\n",
    "test_loader = torch.utils.data.DataLoader(dataset=test_dataset, batch_size = batch_size, shuffle=False)\n",
    "\n",
    "examples = iter(train_loader)\n",
    "samples, labels = examples.next()\n",
    "print(samples.shape, labels.shape)\n",
    "\n",
    "\n",
    "img_grid = torchvision.utils.make_grid(samples)\n",
    "writer.add_image(\"mnist_images\", img_grid)\n",
    "writer.close()\n",
    "#sys.exit()\n",
    "\n",
    "\n",
    "\n",
    "class NeuralNet(nn.Module):\n",
    "    def __init__(self, input_size, hidden_size, num_classes):\n",
    "        super(NeuralNet, self).__init__()\n",
    "        self.l1 = nn.Linear(input_size, hidden_size)\n",
    "        self.relu = nn.ReLU()\n",
    "        self.l2 = nn.Linear(hidden_size, num_classes)\n",
    "        \n",
    "    def forward(self, x):\n",
    "        out = self.l1(x)\n",
    "        out = self.relu(out)\n",
    "        out = self.relu(out)\n",
    "        out = self.l2(out)\n",
    "        return out\n",
    "    \n",
    "model = NeuralNet(input_size, hidden_size, num_classes)\n",
    "criterion = nn.CrossEntropyLoss()\n",
    "optimizer = torch.optim.Adam(model.parameters(), lr=learning_rate)\n",
    "\n",
    "n_total_steps = len(train_loader)\n",
    "writer.add_graph(model, samples.reshape(-1,28*28))\n",
    "writer.close()\n",
    "#sys.exit()\n",
    "\n",
    "running_loss = 0.0\n",
    "running_correct = 0\n",
    "\n",
    "\n",
    "\n",
    "\n",
    "for epoch in range(num_epochs):\n",
    "    for i, (images, labels) in enumerate(train_loader):\n",
    "        images = images.reshape(-1, 28*28).to(device)\n",
    "        labels = labels.to(device)\n",
    "        \n",
    "        outputs = model(images)\n",
    "        loss    = criterion(outputs, labels)\n",
    "        \n",
    "        optimizer.zero_grad()\n",
    "        loss.backward()\n",
    "        optimizer.step()\n",
    "        \n",
    "        running_loss     = loss.item()\n",
    "        _, predictions = torch.max(outputs, 1)\n",
    "        running_correct += (predictions == labels).sum().item() \n",
    "        \n",
    "        if((i+1)%100 == 0):\n",
    "            print(f'epoch {epoch+1}/{num_epochs}, step {i+1}/{n_total_steps}, loss = {loss.item():.4f}')\n",
    "            writer.add_scalar('training_loss ',running_loss/100, epoch*n_total_steps+i)\n",
    "            writer.add_scalar('accuracy ',running_correct/100, epoch*n_total_steps+i)\n",
    "            running_loss = 0.0\n",
    "            running_correct = 0\n",
    "\n",
    "            \n",
    "labels = []\n",
    "preds  = [] \n",
    "\n",
    "with torch.no_grad():\n",
    "    n_correct = 0\n",
    "    n_samples = 0\n",
    "    for images, labels1 in test_loader:\n",
    "        images = images.reshape(-1, 28*28).to(device)\n",
    "        labels1 = labels1.to(device)\n",
    "        outputs = model(images)\n",
    "        \n",
    "        #value, index\n",
    "        _, predictions = torch.max(outputs, 1)\n",
    "        n_samples +=labels1.shape[0]\n",
    "        n_correct += (predictions == labels1).sum().item()\n",
    "        \n",
    "        class_predictions = [F.softmax(output, dim=0) for output in outputs]\n",
    "        \n",
    "        preds.append(class_predictions)\n",
    "        labels.append(predictions)\n",
    "    preds = torch.cat([torch.stack(batch) for batch in preds])\n",
    "    labels = torch.cat(labels)\n",
    "        \n",
    "    acc = 100.0* n_correct /n_samples\n",
    "    print(f'accuracy = {acc}')\n",
    "    \n",
    "    classes = range(10)\n",
    "    for i in classes:\n",
    "        labels_i = labels ==i\n",
    "        preds_i  = preds[:,i]\n",
    "        writer.add_pr_curve(str(i), labels_i, preds_i, global_step=0)\n",
    "        writer.close()\n",
    "\n",
    "\n"
   ]
  },
  {
   "cell_type": "code",
   "execution_count": 8,
   "id": "b6010d2e",
   "metadata": {},
   "outputs": [],
   "source": [
    "writer.close()"
   ]
  },
  {
   "cell_type": "markdown",
   "id": "edaee128",
   "metadata": {},
   "source": [
    "### Saving and Loading Models"
   ]
  },
  {
   "cell_type": "code",
   "execution_count": 16,
   "id": "3f0b2d36",
   "metadata": {},
   "outputs": [
    {
     "name": "stdout",
     "output_type": "stream",
     "text": [
      "Parameter containing:\n",
      "tensor([[-0.1805, -0.1222,  0.2921,  0.1810,  0.3617, -0.1081]],\n",
      "       requires_grad=True)\n",
      "Parameter containing:\n",
      "tensor([-0.2314], requires_grad=True)\n",
      "Parameter containing:\n",
      "tensor([[-0.1805, -0.1222,  0.2921,  0.1810,  0.3617, -0.1081]],\n",
      "       requires_grad=True)\n",
      "Parameter containing:\n",
      "tensor([-0.2314], requires_grad=True)\n"
     ]
    }
   ],
   "source": [
    "import torch\n",
    "import torch.nn as nn\n",
    "\n",
    "\n",
    "\n",
    "class Model(nn.Module):\n",
    "    def __init__(self, n_input_features):\n",
    "        super(Model, self).__init__()\n",
    "        self.linear = nn.Linear(n_input_features, 1)\n",
    "        \n",
    "    def forward(self, x):\n",
    "        y_pred = torch.sigmoid(self.linear(x))\n",
    "        return y_pred\n",
    "\n",
    "model = Model(n_input_features=6)\n",
    "\n",
    "for param in model.parameters():\n",
    "    print(param)\n",
    "\n",
    "FILE  = 'model.pth'\n",
    "torch.save(model.state_dict(), FILE)\n",
    "# model = torch.load(FILE)\n",
    "# model.eval()\n",
    "\n",
    "# for param in model.parameters():\n",
    "#     print(param)\n",
    "\n",
    "loaded_model = Model(n_input_features=6)\n",
    "loaded_model.load_state_dict(torch.load(FILE))\n",
    "loaded_model.eval()\n",
    "\n",
    "\n",
    "for param in loaded_model.parameters():\n",
    "    print(param)\n",
    "\n"
   ]
  },
  {
   "cell_type": "code",
   "execution_count": 14,
   "id": "f338d15c",
   "metadata": {},
   "outputs": [
    {
     "name": "stdout",
     "output_type": "stream",
     "text": [
      "OrderedDict([('linear.weight', tensor([[ 0.2634,  0.0660,  0.0249, -0.3690,  0.3331,  0.1786]])), ('linear.bias', tensor([-0.0986]))])\n"
     ]
    }
   ],
   "source": [
    "print(model.state_dict())"
   ]
  },
  {
   "cell_type": "code",
   "execution_count": null,
   "id": "ac63d842",
   "metadata": {},
   "outputs": [],
   "source": []
  }
 ],
 "metadata": {
  "kernelspec": {
   "display_name": "Python 3",
   "language": "python",
   "name": "python3"
  },
  "language_info": {
   "codemirror_mode": {
    "name": "ipython",
    "version": 3
   },
   "file_extension": ".py",
   "mimetype": "text/x-python",
   "name": "python",
   "nbconvert_exporter": "python",
   "pygments_lexer": "ipython3",
   "version": "3.6.9"
  }
 },
 "nbformat": 4,
 "nbformat_minor": 5
}
