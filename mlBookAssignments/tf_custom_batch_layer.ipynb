{
  "nbformat": 4,
  "nbformat_minor": 0,
  "metadata": {
    "colab": {
      "name": "tf-custom-batch-layer.ipynb",
      "provenance": [],
      "authorship_tag": "ABX9TyNIfCS2Ycrqlqs83xdIhgJ6",
      "include_colab_link": true
    },
    "kernelspec": {
      "name": "python3",
      "display_name": "Python 3"
    },
    "language_info": {
      "name": "python"
    }
  },
  "cells": [
    {
      "cell_type": "markdown",
      "metadata": {
        "id": "view-in-github",
        "colab_type": "text"
      },
      "source": [
        "<a href=\"https://colab.research.google.com/github/Nanirudh/ML-Assignments/blob/main/mlBookAssignments/tf_custom_batch_layer.ipynb\" target=\"_parent\"><img src=\"https://colab.research.google.com/assets/colab-badge.svg\" alt=\"Open In Colab\"/></a>"
      ]
    },
    {
      "cell_type": "code",
      "metadata": {
        "id": "_ys-hSp0rcCF"
      },
      "source": [
        "import tensorflow as tf\n",
        "from tensorflow import keras"
      ],
      "execution_count": 1,
      "outputs": []
    },
    {
      "cell_type": "code",
      "metadata": {
        "id": "MOkDX1G0zwod"
      },
      "source": [
        ""
      ],
      "execution_count": null,
      "outputs": []
    },
    {
      "cell_type": "code",
      "metadata": {
        "colab": {
          "base_uri": "https://localhost:8080/"
        },
        "id": "tvTFMbmUrtsB",
        "outputId": "ba02c1be-a785-46fb-a27b-ae04bc647da6"
      },
      "source": [
        "class MyLayerNorm(keras.layers.Layer):\n",
        "  def __init__(self, epsilon=0.0001, **kwargs):\n",
        "    self.epsilon = epsilon\n",
        "\n",
        "  def build(self, batch_input_shape):\n",
        "    self.alpha =  self.add_weight(name=\"alpha\", shape=batch_input_shape[-1:],initializer=\"ones\")\n",
        "    self.beta  =  self.add_weight(name=\"beta\", shape=batch_input_shape[-1:],initializer=\"zeros\")\n",
        "    super().build(batch_input_shape)\n",
        "\n",
        "  def call(self, X):\n",
        "    mean, variance = tf.nn.moments(X, axes=-1, keepdims=True)\n",
        "    return self.alpha * (X - mean) / (tf.sqrt(variance + self.epsilon)) + self.beta\n",
        "\n",
        "  def compute_output_shape(self, batch_input_shape):\n",
        "    return batch_input_shape\n",
        "\n",
        "  def get_config(self):\n",
        "    base_config = super().get_config()\n",
        "    return {**base_config, \"epsilon\": self.epsilon}\n",
        "    \n"
      ],
      "execution_count": 2,
      "outputs": [
        {
          "output_type": "stream",
          "name": "stdout",
          "text": [
            "5\n"
          ]
        }
      ]
    },
    {
      "cell_type": "code",
      "metadata": {
        "colab": {
          "base_uri": "https://localhost:8080/"
        },
        "id": "Dzz4EhdVzGZc",
        "outputId": "c1f52c2b-084b-410f-c077-34c112183cf8"
      },
      "source": [
        ""
      ],
      "execution_count": 3,
      "outputs": [
        {
          "output_type": "stream",
          "name": "stdout",
          "text": [
            "[5]\n"
          ]
        }
      ]
    },
    {
      "cell_type": "code",
      "metadata": {
        "id": "aGryo5gvzfyi"
      },
      "source": [
        ""
      ],
      "execution_count": null,
      "outputs": []
    }
  ]
}