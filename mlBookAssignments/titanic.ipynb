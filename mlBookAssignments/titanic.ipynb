{
  "nbformat": 4,
  "nbformat_minor": 0,
  "metadata": {
    "colab": {
      "name": "titanic.ipynb",
      "provenance": [],
      "authorship_tag": "ABX9TyOub5P8CqH59brknv8i8UD9",
      "include_colab_link": true
    },
    "kernelspec": {
      "name": "python3",
      "display_name": "Python 3"
    },
    "language_info": {
      "name": "python"
    }
  },
  "cells": [
    {
      "cell_type": "markdown",
      "metadata": {
        "id": "view-in-github",
        "colab_type": "text"
      },
      "source": [
        "<a href=\"https://colab.research.google.com/github/Nanirudh/ML-Assignments/blob/main/mlBookAssignments/titanic.ipynb\" target=\"_parent\"><img src=\"https://colab.research.google.com/assets/colab-badge.svg\" alt=\"Open In Colab\"/></a>"
      ]
    },
    {
      "cell_type": "code",
      "metadata": {
        "colab": {
          "base_uri": "https://localhost:8080/"
        },
        "id": "EJ-JSJ5kle0P",
        "outputId": "4f76a9f5-d11d-41be-de0d-5c3736246094"
      },
      "source": [
        "from google.colab import drive\n",
        "drive.mount('/content/drive')"
      ],
      "execution_count": 1,
      "outputs": [
        {
          "output_type": "stream",
          "text": [
            "Mounted at /content/drive\n"
          ],
          "name": "stdout"
        }
      ]
    },
    {
      "cell_type": "code",
      "metadata": {
        "id": "qpaacZnUnjyb"
      },
      "source": [
        "import pandas as pd"
      ],
      "execution_count": 2,
      "outputs": []
    },
    {
      "cell_type": "code",
      "metadata": {
        "id": "L7rILnuVn8mI"
      },
      "source": [
        "train_data = pd.read_csv('/content/drive/MyDrive/train.csv')"
      ],
      "execution_count": 3,
      "outputs": []
    },
    {
      "cell_type": "code",
      "metadata": {
        "id": "ien8LVtjoscF"
      },
      "source": [
        "test_data = pd.read_csv('/content/drive/MyDrive/test.csv')"
      ],
      "execution_count": 4,
      "outputs": []
    },
    {
      "cell_type": "code",
      "metadata": {
        "colab": {
          "base_uri": "https://localhost:8080/"
        },
        "id": "1dMc53R3ovtx",
        "outputId": "1303b3a7-0836-44fb-d64a-d94c45516320"
      },
      "source": [
        "train_data.keys()"
      ],
      "execution_count": 5,
      "outputs": [
        {
          "output_type": "execute_result",
          "data": {
            "text/plain": [
              "Index(['PassengerId', 'Survived', 'Pclass', 'Name', 'Sex', 'Age', 'SibSp',\n",
              "       'Parch', 'Ticket', 'Fare', 'Cabin', 'Embarked'],\n",
              "      dtype='object')"
            ]
          },
          "metadata": {
            "tags": []
          },
          "execution_count": 5
        }
      ]
    },
    {
      "cell_type": "code",
      "metadata": {
        "id": "aQJfdruDpLPK"
      },
      "source": [
        "X_train = train_data.drop(['PassengerId', 'Ticket', 'Name', 'Cabin', 'Embarked'], axis=1)"
      ],
      "execution_count": 6,
      "outputs": []
    },
    {
      "cell_type": "code",
      "metadata": {
        "id": "cG-LbpOEq6mK"
      },
      "source": [
        "y_train = X_train[['Survived']].copy()"
      ],
      "execution_count": 7,
      "outputs": []
    },
    {
      "cell_type": "code",
      "metadata": {
        "id": "rfwfox5UrHnt"
      },
      "source": [
        "X_train = X_train.drop(['Survived'], axis=1)"
      ],
      "execution_count": 8,
      "outputs": []
    },
    {
      "cell_type": "code",
      "metadata": {
        "colab": {
          "base_uri": "https://localhost:8080/"
        },
        "id": "xkIos_Jyrv1R",
        "outputId": "e131047c-37d0-4750-aa71-06e509d37887"
      },
      "source": [
        "X_train['Sex'].unique()"
      ],
      "execution_count": 9,
      "outputs": [
        {
          "output_type": "execute_result",
          "data": {
            "text/plain": [
              "array(['male', 'female'], dtype=object)"
            ]
          },
          "metadata": {
            "tags": []
          },
          "execution_count": 9
        }
      ]
    },
    {
      "cell_type": "code",
      "metadata": {
        "id": "zJ3Q87cMs2mr"
      },
      "source": [
        "X_train['Sex'].replace('male', 0, inplace=True)"
      ],
      "execution_count": 10,
      "outputs": []
    },
    {
      "cell_type": "code",
      "metadata": {
        "id": "uT27qhPYs7ar"
      },
      "source": [
        "X_train['Sex'].replace('female', 1, inplace=True)"
      ],
      "execution_count": 11,
      "outputs": []
    },
    {
      "cell_type": "code",
      "metadata": {
        "colab": {
          "base_uri": "https://localhost:8080/"
        },
        "id": "SYpkkjbdwziM",
        "outputId": "0dd4643a-545b-417b-b277-1789553c198c"
      },
      "source": [
        "print(X_train)"
      ],
      "execution_count": 12,
      "outputs": [
        {
          "output_type": "stream",
          "text": [
            "     Pclass  Sex   Age  SibSp  Parch     Fare\n",
            "0         3    0  22.0      1      0   7.2500\n",
            "1         1    1  38.0      1      0  71.2833\n",
            "2         3    1  26.0      0      0   7.9250\n",
            "3         1    1  35.0      1      0  53.1000\n",
            "4         3    0  35.0      0      0   8.0500\n",
            "..      ...  ...   ...    ...    ...      ...\n",
            "886       2    0  27.0      0      0  13.0000\n",
            "887       1    1  19.0      0      0  30.0000\n",
            "888       3    1   NaN      1      2  23.4500\n",
            "889       1    0  26.0      0      0  30.0000\n",
            "890       3    0  32.0      0      0   7.7500\n",
            "\n",
            "[891 rows x 6 columns]\n"
          ],
          "name": "stdout"
        }
      ]
    },
    {
      "cell_type": "code",
      "metadata": {
        "colab": {
          "base_uri": "https://localhost:8080/"
        },
        "id": "HmnE4_fkw5wW",
        "outputId": "18ee7144-6215-43f2-e8d1-e7de3834280a"
      },
      "source": [
        "X_train['Age'].fillna(X_train['Age'].mean(), inplace=True)\n",
        "X_train['Age'].unique()"
      ],
      "execution_count": 13,
      "outputs": [
        {
          "output_type": "execute_result",
          "data": {
            "text/plain": [
              "array([22.        , 38.        , 26.        , 35.        , 29.69911765,\n",
              "       54.        ,  2.        , 27.        , 14.        ,  4.        ,\n",
              "       58.        , 20.        , 39.        , 55.        , 31.        ,\n",
              "       34.        , 15.        , 28.        ,  8.        , 19.        ,\n",
              "       40.        , 66.        , 42.        , 21.        , 18.        ,\n",
              "        3.        ,  7.        , 49.        , 29.        , 65.        ,\n",
              "       28.5       ,  5.        , 11.        , 45.        , 17.        ,\n",
              "       32.        , 16.        , 25.        ,  0.83      , 30.        ,\n",
              "       33.        , 23.        , 24.        , 46.        , 59.        ,\n",
              "       71.        , 37.        , 47.        , 14.5       , 70.5       ,\n",
              "       32.5       , 12.        ,  9.        , 36.5       , 51.        ,\n",
              "       55.5       , 40.5       , 44.        ,  1.        , 61.        ,\n",
              "       56.        , 50.        , 36.        , 45.5       , 20.5       ,\n",
              "       62.        , 41.        , 52.        , 63.        , 23.5       ,\n",
              "        0.92      , 43.        , 60.        , 10.        , 64.        ,\n",
              "       13.        , 48.        ,  0.75      , 53.        , 57.        ,\n",
              "       80.        , 70.        , 24.5       ,  6.        ,  0.67      ,\n",
              "       30.5       ,  0.42      , 34.5       , 74.        ])"
            ]
          },
          "metadata": {
            "tags": []
          },
          "execution_count": 13
        }
      ]
    },
    {
      "cell_type": "code",
      "metadata": {
        "colab": {
          "base_uri": "https://localhost:8080/"
        },
        "id": "zuWDm-qFx36m",
        "outputId": "a64ca75a-f620-45aa-c8a2-6491baf60d35"
      },
      "source": [
        "from sklearn.linear_model import LogisticRegression\n",
        "sk_linear_model = LogisticRegression(random_state=42).fit(X_train, y_train)"
      ],
      "execution_count": 16,
      "outputs": [
        {
          "output_type": "stream",
          "text": [
            "/usr/local/lib/python3.7/dist-packages/sklearn/utils/validation.py:760: DataConversionWarning: A column-vector y was passed when a 1d array was expected. Please change the shape of y to (n_samples, ), for example using ravel().\n",
            "  y = column_or_1d(y, warn=True)\n"
          ],
          "name": "stderr"
        }
      ]
    },
    {
      "cell_type": "code",
      "metadata": {
        "colab": {
          "base_uri": "https://localhost:8080/"
        },
        "id": "2NKp066CzDr8",
        "outputId": "765fb711-bd04-4287-accd-486edea386b2"
      },
      "source": [
        "test_data.keys()"
      ],
      "execution_count": 17,
      "outputs": [
        {
          "output_type": "execute_result",
          "data": {
            "text/plain": [
              "Index(['PassengerId', 'Pclass', 'Name', 'Sex', 'Age', 'SibSp', 'Parch',\n",
              "       'Ticket', 'Fare', 'Cabin', 'Embarked'],\n",
              "      dtype='object')"
            ]
          },
          "metadata": {
            "tags": []
          },
          "execution_count": 17
        }
      ]
    },
    {
      "cell_type": "code",
      "metadata": {
        "id": "F_wTncC4zKAO"
      },
      "source": [
        "X_test = test_data.drop(['PassengerId', 'Ticket', 'Name', 'Cabin', 'Embarked'], axis=1)\n",
        "X_test['Sex'].replace(['female','male'], [1,0], inplace=True)"
      ],
      "execution_count": 18,
      "outputs": []
    },
    {
      "cell_type": "code",
      "metadata": {
        "id": "Ydzjcyd-za_8"
      },
      "source": [
        "X_test.keys()\n",
        "X_test['Age'].fillna(X_test['Age'].mean(), inplace=True)"
      ],
      "execution_count": 19,
      "outputs": []
    },
    {
      "cell_type": "code",
      "metadata": {
        "id": "3O8-COLCzjK6"
      },
      "source": [
        "X_test.keys()\n",
        "X_test['Fare'].fillna(X_test['Fare'].mean(), inplace=True)"
      ],
      "execution_count": 20,
      "outputs": []
    },
    {
      "cell_type": "code",
      "metadata": {
        "id": "ThZJZAjM0jy6"
      },
      "source": [
        "y_test = sk_linear_model.predict(X_test)"
      ],
      "execution_count": 21,
      "outputs": []
    },
    {
      "cell_type": "code",
      "metadata": {
        "colab": {
          "base_uri": "https://localhost:8080/"
        },
        "id": "A3paH2dm0-e3",
        "outputId": "404e8bb4-4740-4f5a-c64d-a81a12db82fe"
      },
      "source": [
        "print(y_test)"
      ],
      "execution_count": 24,
      "outputs": [
        {
          "output_type": "stream",
          "text": [
            "[0 0 0 0 1 0 1 0 1 0 0 0 1 0 1 1 0 0 1 0 0 0 1 1 1 0 1 0 0 0 0 0 0 0 0 0 1\n",
            " 1 0 0 0 0 0 1 1 0 0 0 1 1 0 0 1 1 0 0 0 0 0 1 0 0 0 1 1 1 1 0 0 1 1 0 1 1\n",
            " 1 1 0 1 0 1 0 0 0 0 0 0 1 1 1 0 1 0 1 0 1 0 1 0 1 0 1 0 0 0 1 0 0 0 0 0 0\n",
            " 1 1 1 1 0 0 1 0 1 1 0 1 0 0 1 0 0 0 0 0 0 1 0 0 0 0 0 1 0 0 1 0 0 0 0 1 0\n",
            " 0 0 1 0 0 1 0 0 1 1 0 1 1 0 1 0 0 1 0 0 1 1 0 0 0 0 0 1 1 0 1 1 0 0 1 0 1\n",
            " 0 1 0 0 0 0 0 0 0 0 0 1 1 0 1 1 0 0 1 0 0 1 0 1 0 0 0 0 1 0 0 1 0 1 0 1 0\n",
            " 1 0 1 1 0 1 0 0 0 1 0 0 0 0 0 0 1 1 1 1 0 0 0 0 1 0 1 1 1 0 1 0 0 0 0 0 1\n",
            " 0 0 0 1 1 0 0 0 0 1 0 0 0 1 1 0 1 0 0 0 0 1 0 1 1 1 0 0 1 0 0 1 1 0 0 0 0\n",
            " 1 0 1 0 0 0 0 0 1 1 0 0 0 0 0 0 0 1 1 1 0 0 0 0 0 0 0 0 1 0 1 0 0 0 1 0 0\n",
            " 1 0 0 0 0 0 0 0 0 0 1 0 1 0 1 0 1 1 0 0 0 1 0 1 0 0 1 0 1 1 0 1 0 0 1 1 0\n",
            " 0 1 0 0 1 1 1 0 0 0 0 0 1 1 0 1 0 0 0 0 1 1 0 0 0 1 0 1 0 0 1 0 1 1 0 0 0\n",
            " 0 1 1 1 1 1 0 1 0 0 0]\n"
          ],
          "name": "stdout"
        }
      ]
    },
    {
      "cell_type": "code",
      "metadata": {
        "id": "h1NA18T41A8D"
      },
      "source": [
        "solution = pd.DataFrame({'Survived':y_test[:]})"
      ],
      "execution_count": 32,
      "outputs": []
    },
    {
      "cell_type": "code",
      "metadata": {
        "colab": {
          "base_uri": "https://localhost:8080/"
        },
        "id": "Ia41oX7PZGSs",
        "outputId": "0e16a79e-cfdf-45b4-88ef-10e8135a2b43"
      },
      "source": [
        "solution.shape\n",
        "test_data.shape"
      ],
      "execution_count": 36,
      "outputs": [
        {
          "output_type": "execute_result",
          "data": {
            "text/plain": [
              "(418, 11)"
            ]
          },
          "metadata": {
            "tags": []
          },
          "execution_count": 36
        }
      ]
    },
    {
      "cell_type": "code",
      "metadata": {
        "id": "ZgIqmSEzZUkM"
      },
      "source": [
        "pid=test_data[['PassengerId']].copy()"
      ],
      "execution_count": 37,
      "outputs": []
    },
    {
      "cell_type": "code",
      "metadata": {
        "colab": {
          "base_uri": "https://localhost:8080/"
        },
        "id": "kA2IBFV1Zz9r",
        "outputId": "9499d133-e244-403a-a7e4-b4548836dbe1"
      },
      "source": [
        "pid.shape"
      ],
      "execution_count": 38,
      "outputs": [
        {
          "output_type": "execute_result",
          "data": {
            "text/plain": [
              "(418, 1)"
            ]
          },
          "metadata": {
            "tags": []
          },
          "execution_count": 38
        }
      ]
    },
    {
      "cell_type": "code",
      "metadata": {
        "id": "3iMxtRtvacQ2"
      },
      "source": [
        "solution['PassengerId'] = pid"
      ],
      "execution_count": 39,
      "outputs": []
    },
    {
      "cell_type": "code",
      "metadata": {
        "colab": {
          "base_uri": "https://localhost:8080/"
        },
        "id": "pS91YExxasO_",
        "outputId": "2b9f6dd9-66ba-4446-bfae-7cb073929915"
      },
      "source": [
        "solution.shape"
      ],
      "execution_count": 40,
      "outputs": [
        {
          "output_type": "execute_result",
          "data": {
            "text/plain": [
              "(418, 2)"
            ]
          },
          "metadata": {
            "tags": []
          },
          "execution_count": 40
        }
      ]
    },
    {
      "cell_type": "code",
      "metadata": {
        "id": "24sMHwMiaut0"
      },
      "source": [
        "solution.to_csv('/content/drive/MyDrive/titanic_logistic.csv')"
      ],
      "execution_count": 41,
      "outputs": []
    },
    {
      "cell_type": "code",
      "metadata": {
        "id": "S5gLfDU1bDLk"
      },
      "source": [
        ""
      ],
      "execution_count": null,
      "outputs": []
    }
  ]
}