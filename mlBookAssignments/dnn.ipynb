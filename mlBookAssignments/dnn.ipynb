{
  "nbformat": 4,
  "nbformat_minor": 0,
  "metadata": {
    "colab": {
      "name": "dnn.ipynb",
      "provenance": [],
      "authorship_tag": "ABX9TyMVZrUtflBMtH67ny2LQyoa",
      "include_colab_link": true
    },
    "kernelspec": {
      "name": "python3",
      "display_name": "Python 3"
    },
    "language_info": {
      "name": "python"
    }
  },
  "cells": [
    {
      "cell_type": "markdown",
      "metadata": {
        "id": "view-in-github",
        "colab_type": "text"
      },
      "source": [
        "<a href=\"https://colab.research.google.com/github/Nanirudh/ML-Assignments/blob/main/mlBookAssignments/dnn.ipynb\" target=\"_parent\"><img src=\"https://colab.research.google.com/assets/colab-badge.svg\" alt=\"Open In Colab\"/></a>"
      ]
    },
    {
      "cell_type": "code",
      "metadata": {
        "id": "JiuQhwl1zEWJ"
      },
      "source": [
        "import tensorflow as tf\n",
        "from tensorflow import keras\n",
        "import os"
      ],
      "execution_count": 8,
      "outputs": []
    },
    {
      "cell_type": "code",
      "metadata": {
        "id": "WAcVwC8Rz7jl"
      },
      "source": [
        "cifar10 = keras.datasets.cifar10"
      ],
      "execution_count": 2,
      "outputs": []
    },
    {
      "cell_type": "code",
      "metadata": {
        "colab": {
          "base_uri": "https://localhost:8080/"
        },
        "id": "rafCt_eW0oNV",
        "outputId": "be518468-9d4b-4347-fec9-47b1a4e13e47"
      },
      "source": [
        "(x_train_full,y_train_full),(x_test,y_test)=cifar10.load_data()"
      ],
      "execution_count": 3,
      "outputs": [
        {
          "output_type": "stream",
          "name": "stdout",
          "text": [
            "Downloading data from https://www.cs.toronto.edu/~kriz/cifar-10-python.tar.gz\n",
            "170500096/170498071 [==============================] - 4s 0us/step\n",
            "170508288/170498071 [==============================] - 4s 0us/step\n"
          ]
        }
      ]
    },
    {
      "cell_type": "code",
      "metadata": {
        "colab": {
          "base_uri": "https://localhost:8080/"
        },
        "id": "In6qHIpp0rqi",
        "outputId": "14bf096f-1e85-4086-e584-b3d0c613733b"
      },
      "source": [
        "y_train_full.shape"
      ],
      "execution_count": 4,
      "outputs": [
        {
          "output_type": "execute_result",
          "data": {
            "text/plain": [
              "(50000, 1)"
            ]
          },
          "metadata": {},
          "execution_count": 4
        }
      ]
    },
    {
      "cell_type": "code",
      "metadata": {
        "id": "WZU10PZ91Eu8"
      },
      "source": [
        "x_valid,x_train = x_train_full[:10000],x_train_full[10000:]\n",
        "y_valid,y_train = y_train_full[:10000],y_train_full[10000:]"
      ],
      "execution_count": 5,
      "outputs": []
    },
    {
      "cell_type": "code",
      "metadata": {
        "id": "tYDh1Rn02R1u"
      },
      "source": [
        "def build_model_without_bn():\n",
        "  model = keras.models.Sequential()\n",
        "  model.add(keras.layers.Flatten(input_shape=[32,32,3]))\n",
        "  for i in range(20):\n",
        "    model.add(keras.layers.Dense(100, kernel_initializer=\"he_normal\",  activation=\"elu\"))\n",
        "\n",
        "  model.add(keras.layers.Dense(10, activation=\"softmax\"))\n",
        "\n",
        "  optimizer_ = keras.optimizers.Adam(learning_rate=0.001, beta_1=0.9, beta_2=0.999)\n",
        "  model.compile(loss=\"sparse_categorical_crossentropy\",optimizer=optimizer_,metrics=[\"accuracy\"])\n",
        "  return model\n"
      ],
      "execution_count": 11,
      "outputs": []
    },
    {
      "cell_type": "code",
      "metadata": {
        "colab": {
          "base_uri": "https://localhost:8080/"
        },
        "id": "kT4gVrFX7EbD",
        "outputId": "455ade39-984e-41e9-cca9-c7e9013f23fe"
      },
      "source": [
        "dnn_model=build_model_without_bn()\n",
        "early_stop_cb = keras.callbacks.EarlyStopping(patience=20)\n",
        "model_checkpoint_cb = keras.callbacks.ModelCheckpoint('cifar10.h5',save_best_only=True)\n",
        "run_index = 1 \n",
        "run_logdir = os.path.join(os.curdir, \"cifar10_logs\", \"run_bn_{:03d}\".format(run_index))\n",
        "tensorboard_cb = keras.callbacks.TensorBoard(run_logdir)\n",
        "callbacks_ = [early_stop_cb, model_checkpoint_cb, tensorboard_cb]\n",
        "\n",
        "dnn_model.fit(x_train,y_train,epochs=10,validation_data=(x_valid,y_valid),callbacks=callbacks_)\n",
        "b_model = keras.models.load_model(\"cifar10.h5\")\n",
        "b_model.evaluate(x_valid, y_valid)"
      ],
      "execution_count": 14,
      "outputs": [
        {
          "output_type": "stream",
          "name": "stdout",
          "text": [
            "Epoch 1/10\n",
            "1250/1250 [==============================] - 12s 9ms/step - loss: 3.4445 - accuracy: 0.2018 - val_loss: 2.0356 - val_accuracy: 0.2475\n",
            "Epoch 2/10\n",
            "1250/1250 [==============================] - 11s 9ms/step - loss: 1.9725 - accuracy: 0.2639 - val_loss: 1.9399 - val_accuracy: 0.2945\n",
            "Epoch 3/10\n",
            "1250/1250 [==============================] - 11s 9ms/step - loss: 1.9040 - accuracy: 0.3006 - val_loss: 1.8476 - val_accuracy: 0.3033\n",
            "Epoch 4/10\n",
            "1250/1250 [==============================] - 11s 9ms/step - loss: 1.8797 - accuracy: 0.3094 - val_loss: 1.8832 - val_accuracy: 0.3161\n",
            "Epoch 5/10\n",
            "1250/1250 [==============================] - 11s 9ms/step - loss: 1.8729 - accuracy: 0.3137 - val_loss: 1.8266 - val_accuracy: 0.3171\n",
            "Epoch 6/10\n",
            "1250/1250 [==============================] - 11s 9ms/step - loss: 1.8473 - accuracy: 0.3230 - val_loss: 1.8457 - val_accuracy: 0.3156\n",
            "Epoch 7/10\n",
            "1250/1250 [==============================] - 12s 9ms/step - loss: 1.8315 - accuracy: 0.3268 - val_loss: 1.7978 - val_accuracy: 0.3393\n",
            "Epoch 8/10\n",
            "1250/1250 [==============================] - 11s 9ms/step - loss: 1.8214 - accuracy: 0.3354 - val_loss: 1.8023 - val_accuracy: 0.3457\n",
            "Epoch 9/10\n",
            "1250/1250 [==============================] - 12s 9ms/step - loss: 1.8026 - accuracy: 0.3398 - val_loss: 1.8676 - val_accuracy: 0.3277\n",
            "Epoch 10/10\n",
            "1250/1250 [==============================] - 11s 9ms/step - loss: 1.7944 - accuracy: 0.3447 - val_loss: 1.7754 - val_accuracy: 0.3490\n",
            "313/313 [==============================] - 1s 3ms/step - loss: 1.7754 - accuracy: 0.3490\n"
          ]
        },
        {
          "output_type": "execute_result",
          "data": {
            "text/plain": [
              "[1.7754052877426147, 0.3490000069141388]"
            ]
          },
          "metadata": {},
          "execution_count": 14
        }
      ]
    },
    {
      "cell_type": "code",
      "metadata": {
        "id": "cOEzMD8t8iF7",
        "colab": {
          "base_uri": "https://localhost:8080/"
        },
        "outputId": "1b77293c-bee6-4c2b-9058-4085f17c7a39"
      },
      "source": [
        "keras.backend.clear_session()\n",
        "model = keras.models.Sequential()\n",
        "model.add(keras.layers.Flatten(input_shape=[32, 32, 3]))\n",
        "model.add(keras.layers.BatchNormalization())\n",
        "for _ in range(20):\n",
        "    model.add(keras.layers.Dense(100, kernel_initializer=\"he_normal\"))\n",
        "    model.add(keras.layers.BatchNormalization())\n",
        "    model.add(keras.layers.Activation(\"elu\"))\n",
        "model.add(keras.layers.Dense(10, activation=\"softmax\"))\n",
        "\n",
        "optimizer = keras.optimizers.Nadam(learning_rate=5e-4)\n",
        "model.compile(loss=\"sparse_categorical_crossentropy\",\n",
        "              optimizer=optimizer,\n",
        "              metrics=[\"accuracy\"])\n",
        "\n",
        "early_stopping_cb = keras.callbacks.EarlyStopping(patience=20)\n",
        "model_checkpoint_cb = keras.callbacks.ModelCheckpoint(\"cifar10_bn.h5\", save_best_only=True)\n",
        "run_index = 1 \n",
        "run_logdir = os.path.join(os.curdir, \"cifar10_bn_logs\", \"run_bn_{:03d}\".format(run_index))\n",
        "tensorboard_cb = keras.callbacks.TensorBoard(run_logdir)\n",
        "callbacks_ = [early_stopping_cb, model_checkpoint_cb, tensorboard_cb]\n",
        "\n",
        "model.fit(x_train, y_train, epochs=10,\n",
        "          validation_data=(x_valid, y_valid),\n",
        "          callbacks=callbacks_)\n",
        "\n",
        "model = keras.models.load_model(\"cifar10_bn.h5\")\n",
        "model.evaluate(x_valid, y_valid)"
      ],
      "execution_count": 16,
      "outputs": [
        {
          "output_type": "stream",
          "name": "stdout",
          "text": [
            "Epoch 1/10\n",
            "1250/1250 [==============================] - 33s 20ms/step - loss: 1.8506 - accuracy: 0.3362 - val_loss: 1.6247 - val_accuracy: 0.4116\n",
            "Epoch 2/10\n",
            "1250/1250 [==============================] - 24s 19ms/step - loss: 1.6762 - accuracy: 0.4033 - val_loss: 1.5827 - val_accuracy: 0.4248\n",
            "Epoch 3/10\n",
            "1250/1250 [==============================] - 24s 19ms/step - loss: 1.6094 - accuracy: 0.4290 - val_loss: 1.5307 - val_accuracy: 0.4459\n",
            "Epoch 4/10\n",
            "1250/1250 [==============================] - 25s 20ms/step - loss: 1.5641 - accuracy: 0.4423 - val_loss: 1.4841 - val_accuracy: 0.4664\n",
            "Epoch 5/10\n",
            "1250/1250 [==============================] - 24s 20ms/step - loss: 1.5130 - accuracy: 0.4623 - val_loss: 1.4541 - val_accuracy: 0.4801\n",
            "Epoch 6/10\n",
            "1250/1250 [==============================] - 24s 19ms/step - loss: 1.4812 - accuracy: 0.4738 - val_loss: 1.4408 - val_accuracy: 0.4834\n",
            "Epoch 7/10\n",
            "1250/1250 [==============================] - 24s 19ms/step - loss: 1.4479 - accuracy: 0.4888 - val_loss: 1.4148 - val_accuracy: 0.4898\n",
            "Epoch 8/10\n",
            "1250/1250 [==============================] - 24s 19ms/step - loss: 1.4176 - accuracy: 0.4932 - val_loss: 1.4151 - val_accuracy: 0.4937\n",
            "Epoch 9/10\n",
            "1250/1250 [==============================] - 24s 19ms/step - loss: 1.3917 - accuracy: 0.5046 - val_loss: 1.4019 - val_accuracy: 0.4995\n",
            "Epoch 10/10\n",
            "1250/1250 [==============================] - 24s 20ms/step - loss: 1.3682 - accuracy: 0.5141 - val_loss: 1.3987 - val_accuracy: 0.5012\n",
            "313/313 [==============================] - 2s 4ms/step - loss: 1.3987 - accuracy: 0.5012\n"
          ]
        },
        {
          "output_type": "execute_result",
          "data": {
            "text/plain": [
              "[1.3986884355545044, 0.5012000203132629]"
            ]
          },
          "metadata": {},
          "execution_count": 16
        }
      ]
    },
    {
      "cell_type": "code",
      "metadata": {
        "id": "dPmy2PpEMd7R",
        "outputId": "328302c5-5bc3-4e36-81a1-24dfbeb18a17",
        "colab": {
          "base_uri": "https://localhost:8080/"
        }
      },
      "source": [
        "keras.backend.clear_session()\n",
        "model = keras.models.Sequential()\n",
        "model.add(keras.layers.Flatten(input_shape=[32, 32, 3]))\n",
        "for _ in range(20):\n",
        "    model.add(keras.layers.Dense(100,\n",
        "                                 kernel_initializer=\"lecun_normal\",\n",
        "                                 activation=\"selu\"))\n",
        "model.add(keras.layers.Dense(10, activation=\"softmax\"))\n",
        "\n",
        "optimizer = keras.optimizers.Nadam(learning_rate=7e-4)\n",
        "model.compile(loss=\"sparse_categorical_crossentropy\",\n",
        "              optimizer=optimizer,\n",
        "              metrics=[\"accuracy\"])\n",
        "optimizer = keras.optimizers.Nadam(learning_rate=7e-4)\n",
        "model.compile(loss=\"sparse_categorical_crossentropy\",\n",
        "              optimizer=optimizer,\n",
        "              metrics=[\"accuracy\"])\n",
        "\n",
        "early_stopping_cb = keras.callbacks.EarlyStopping(patience=20)\n",
        "model_checkpoint_cb = keras.callbacks.ModelCheckpoint(\"cifar10_selu_model.h5\", save_best_only=True)\n",
        "run_index = 1 \n",
        "run_logdir = os.path.join(os.curdir, \"cifar10_lecun_selu_logs\", \"run_selu_{:03d}\".format(run_index))\n",
        "tensorboard_cb = keras.callbacks.TensorBoard(run_logdir)\n",
        "callbacks = [early_stopping_cb, model_checkpoint_cb, tensorboard_cb]\n",
        "\n",
        "X_means = x_train.mean(axis=0)\n",
        "X_stds = x_train.std(axis=0)\n",
        "X_train_scaled = (x_train - X_means) / X_stds\n",
        "X_valid_scaled = (x_valid - X_means) / X_stds\n",
        "X_test_scaled = (x_test - X_means) / X_stds\n",
        "\n",
        "model.fit(X_train_scaled, y_train, epochs=10,\n",
        "          validation_data=(X_valid_scaled, y_valid),\n",
        "          callbacks=callbacks)\n",
        "\n",
        "model = keras.models.load_model(\"cifar10_selu_model.h5\")\n",
        "model.evaluate(X_valid_scaled, y_valid)"
      ],
      "execution_count": 17,
      "outputs": [
        {
          "output_type": "stream",
          "name": "stdout",
          "text": [
            "Epoch 1/10\n",
            "1250/1250 [==============================] - 19s 13ms/step - loss: 1.9502 - accuracy: 0.3033 - val_loss: 1.8147 - val_accuracy: 0.3553\n",
            "Epoch 2/10\n",
            "1250/1250 [==============================] - 16s 13ms/step - loss: 1.7357 - accuracy: 0.3833 - val_loss: 1.7303 - val_accuracy: 0.3825\n",
            "Epoch 3/10\n",
            "1250/1250 [==============================] - 15s 12ms/step - loss: 1.6342 - accuracy: 0.4216 - val_loss: 1.6515 - val_accuracy: 0.4231\n",
            "Epoch 4/10\n",
            "1250/1250 [==============================] - 15s 12ms/step - loss: 1.5568 - accuracy: 0.4491 - val_loss: 1.6542 - val_accuracy: 0.4024\n",
            "Epoch 5/10\n",
            "1250/1250 [==============================] - 15s 12ms/step - loss: 1.5052 - accuracy: 0.4683 - val_loss: 1.5700 - val_accuracy: 0.4550\n",
            "Epoch 6/10\n",
            "1250/1250 [==============================] - 15s 12ms/step - loss: 1.4524 - accuracy: 0.4890 - val_loss: 1.5326 - val_accuracy: 0.4658\n",
            "Epoch 7/10\n",
            "1250/1250 [==============================] - 15s 12ms/step - loss: 1.4069 - accuracy: 0.5089 - val_loss: 1.5263 - val_accuracy: 0.4655\n",
            "Epoch 8/10\n",
            "1250/1250 [==============================] - 15s 12ms/step - loss: 1.3713 - accuracy: 0.5202 - val_loss: 1.5108 - val_accuracy: 0.4754\n",
            "Epoch 9/10\n",
            "1250/1250 [==============================] - 16s 12ms/step - loss: 1.3340 - accuracy: 0.5340 - val_loss: 1.5205 - val_accuracy: 0.4562\n",
            "Epoch 10/10\n",
            "1250/1250 [==============================] - 16s 12ms/step - loss: 1.2944 - accuracy: 0.5483 - val_loss: 1.5359 - val_accuracy: 0.4773\n",
            "313/313 [==============================] - 1s 3ms/step - loss: 1.5108 - accuracy: 0.4754\n"
          ]
        },
        {
          "output_type": "execute_result",
          "data": {
            "text/plain": [
              "[1.5107505321502686, 0.47540000081062317]"
            ]
          },
          "metadata": {},
          "execution_count": 17
        }
      ]
    },
    {
      "cell_type": "code",
      "metadata": {
        "id": "Vbx7fFJaPT-Q"
      },
      "source": [
        "keras.backend.clear_session()\n",
        "\n",
        "\n",
        "model = keras.models.Sequential()\n",
        "model.add(keras.layers.Flatten(input_shape=[32, 32, 3]))\n",
        "for _ in range(20):\n",
        "    model.add(keras.layers.Dense(100,\n",
        "                                 kernel_initializer=\"lecun_normal\",\n",
        "                                 activation=\"selu\"))\n",
        "\n",
        "model.add(keras.layers.AlphaDropout(rate=0.1))\n",
        "model.add(keras.layers.Dense(10, activation=\"softmax\"))\n",
        "\n",
        "optimizer = keras.optimizers.SGD(learning_rate=1e-3)\n",
        "model.compile(loss=\"sparse_categorical_crossentropy\",\n",
        "              optimizer=optimizer,\n",
        "              metrics=[\"accuracy\"])\n"
      ],
      "execution_count": 24,
      "outputs": []
    },
    {
      "cell_type": "code",
      "metadata": {
        "id": "nmrSb0rKRjYE"
      },
      "source": [
        ""
      ],
      "execution_count": null,
      "outputs": []
    }
  ]
}